{
 "cells": [
  {
   "cell_type": "code",
   "execution_count": 176,
   "id": "through-browser",
   "metadata": {},
   "outputs": [],
   "source": [
    "import pandas as pd \n",
    "from sklearn.feature_extraction.text import CountVectorizer\n",
    "from sklearn.feature_extraction.text import TfidfTransformer\n",
    "\n",
    "from sklearn.decomposition import LatentDirichletAllocation\n"
   ]
  },
  {
   "cell_type": "code",
   "execution_count": 259,
   "id": "conceptual-veteran",
   "metadata": {},
   "outputs": [
    {
     "data": {
      "text/html": [
       "<div>\n",
       "<style scoped>\n",
       "    .dataframe tbody tr th:only-of-type {\n",
       "        vertical-align: middle;\n",
       "    }\n",
       "\n",
       "    .dataframe tbody tr th {\n",
       "        vertical-align: top;\n",
       "    }\n",
       "\n",
       "    .dataframe thead th {\n",
       "        text-align: right;\n",
       "    }\n",
       "</style>\n",
       "<table border=\"1\" class=\"dataframe\">\n",
       "  <thead>\n",
       "    <tr style=\"text-align: right;\">\n",
       "      <th></th>\n",
       "      <th>Doc_no</th>\n",
       "      <th>Title</th>\n",
       "      <th>Abstract</th>\n",
       "      <th>Keywords</th>\n",
       "    </tr>\n",
       "  </thead>\n",
       "  <tbody>\n",
       "    <tr>\n",
       "      <th>0</th>\n",
       "      <td>6</td>\n",
       "      <td>SBC gets more serious on regulatory compliance</td>\n",
       "      <td>one eye past future sbc communication last wee...</td>\n",
       "      <td>telecommunication,sbc communications,regulator...</td>\n",
       "    </tr>\n",
       "    <tr>\n",
       "      <th>1</th>\n",
       "      <td>7</td>\n",
       "      <td>Anti-spam suit attempts to hold carriers accou...</td>\n",
       "      <td>lawsuit alleges sprint violated utah new anti ...</td>\n",
       "      <td>electronic mail,legislation,telecommunication,...</td>\n",
       "    </tr>\n",
       "    <tr>\n",
       "      <th>2</th>\n",
       "      <td>8</td>\n",
       "      <td>New investors get steal of a deal [Global Cros...</td>\n",
       "      <td>hutchison telecommunication singapore technolo...</td>\n",
       "      <td>telecommunication,hutchison telecommunications...</td>\n",
       "    </tr>\n",
       "    <tr>\n",
       "      <th>3</th>\n",
       "      <td>9</td>\n",
       "      <td>Achieving competitive capabilities in e-services</td>\n",
       "      <td>implication internet service operation strateg...</td>\n",
       "      <td>corporate modelling,electronic commerce,intern...</td>\n",
       "    </tr>\n",
       "    <tr>\n",
       "      <th>4</th>\n",
       "      <td>11</td>\n",
       "      <td>Does social capital determine innovation? To w...</td>\n",
       "      <td>paper deal two question social capital determi...</td>\n",
       "      <td>corporate modelling,decision theory,manufactur...</td>\n",
       "    </tr>\n",
       "  </tbody>\n",
       "</table>\n",
       "</div>"
      ],
      "text/plain": [
       "   Doc_no                                              Title  \\\n",
       "0       6     SBC gets more serious on regulatory compliance   \n",
       "1       7  Anti-spam suit attempts to hold carriers accou...   \n",
       "2       8  New investors get steal of a deal [Global Cros...   \n",
       "3       9   Achieving competitive capabilities in e-services   \n",
       "4      11  Does social capital determine innovation? To w...   \n",
       "\n",
       "                                            Abstract  \\\n",
       "0  one eye past future sbc communication last wee...   \n",
       "1  lawsuit alleges sprint violated utah new anti ...   \n",
       "2  hutchison telecommunication singapore technolo...   \n",
       "3  implication internet service operation strateg...   \n",
       "4  paper deal two question social capital determi...   \n",
       "\n",
       "                                            Keywords  \n",
       "0  telecommunication,sbc communications,regulator...  \n",
       "1  electronic mail,legislation,telecommunication,...  \n",
       "2  telecommunication,hutchison telecommunications...  \n",
       "3  corporate modelling,electronic commerce,intern...  \n",
       "4  corporate modelling,decision theory,manufactur...  "
      ]
     },
     "execution_count": 259,
     "metadata": {},
     "output_type": "execute_result"
    }
   ],
   "source": [
    "data = pd.read_pickle('Data/Processed_Hulth.pkl')\n",
    "data.head()"
   ]
  },
  {
   "cell_type": "code",
   "execution_count": 260,
   "id": "detected-bradford",
   "metadata": {},
   "outputs": [],
   "source": [
    "docs = data['Abstract'].tolist()"
   ]
  },
  {
   "cell_type": "code",
   "execution_count": 189,
   "id": "scientific-working",
   "metadata": {},
   "outputs": [],
   "source": [
    "test = docs[0]"
   ]
  },
  {
   "cell_type": "code",
   "execution_count": 195,
   "id": "different-trust",
   "metadata": {},
   "outputs": [],
   "source": [
    "temp = pd.read_pickle('Data/Hulth2003_data.pkl')\n",
    "val = temp['Abstract'][0]"
   ]
  },
  {
   "cell_type": "code",
   "execution_count": 284,
   "id": "operational-conservation",
   "metadata": {},
   "outputs": [],
   "source": [
    "def get_textrank_keywords(docs):\n",
    "    results = []\n",
    "    for row in docs:\n",
    "        # load a spaCy model\n",
    "        nlp = spacy.load(\"en_core_web_sm\")\n",
    "\n",
    "        # add PyTextRank to the spaCy pipeline\n",
    "        nlp.add_pipe(\"positionrank\") #positionrank\n",
    "        doc = nlp(row)\n",
    "\n",
    "        # examine the top-ranked phrases in the document\n",
    "        limit = len(doc._.phrases)\n",
    "        kw = []\n",
    "        if(limit > 4):\n",
    "            for phrase in doc._.phrases:\n",
    "                if(len(phrase.text.split()) <= 4 and len(phrase.text.split()) > 1):\n",
    "                    kw.append(phrase.text)\n",
    "            kw = \",\".join(kw)\n",
    "            results.append(kw)\n",
    "        else:\n",
    "            for phrase in doc._.phrases:\n",
    "                kw.append(phrase.text)\n",
    "            kw = \",\".join(kw)\n",
    "            results.append(kw)\n",
    "    textrank_df = pd.DataFrame(zip(docs,results),columns=['Abstract','Extracted_Keywords'])\n",
    "    return textrank_df "
   ]
  },
  {
   "cell_type": "code",
   "execution_count": 285,
   "id": "honest-bracket",
   "metadata": {},
   "outputs": [],
   "source": [
    "res = get_textrank_keywords(docs)"
   ]
  },
  {
   "cell_type": "code",
   "execution_count": 286,
   "id": "focused-singer",
   "metadata": {},
   "outputs": [
    {
     "data": {
      "text/html": [
       "<div>\n",
       "<style scoped>\n",
       "    .dataframe tbody tr th:only-of-type {\n",
       "        vertical-align: middle;\n",
       "    }\n",
       "\n",
       "    .dataframe tbody tr th {\n",
       "        vertical-align: top;\n",
       "    }\n",
       "\n",
       "    .dataframe thead th {\n",
       "        text-align: right;\n",
       "    }\n",
       "</style>\n",
       "<table border=\"1\" class=\"dataframe\">\n",
       "  <thead>\n",
       "    <tr style=\"text-align: right;\">\n",
       "      <th></th>\n",
       "      <th>Abstract</th>\n",
       "      <th>Extracted_Keywords</th>\n",
       "    </tr>\n",
       "  </thead>\n",
       "  <tbody>\n",
       "    <tr>\n",
       "      <th>0</th>\n",
       "      <td>one eye past future sbc communication last wee...</td>\n",
       "      <td>regulatory burden,future sbc communication,lon...</td>\n",
       "    </tr>\n",
       "    <tr>\n",
       "      <th>1</th>\n",
       "      <td>lawsuit alleges sprint violated utah new anti ...</td>\n",
       "      <td>door new regulation telecom service provider,u...</td>\n",
       "    </tr>\n",
       "    <tr>\n",
       "      <th>2</th>\n",
       "      <td>hutchison telecommunication singapore technolo...</td>\n",
       "      <td>control global crossing lot,hutchison telecomm...</td>\n",
       "    </tr>\n",
       "  </tbody>\n",
       "</table>\n",
       "</div>"
      ],
      "text/plain": [
       "                                            Abstract  \\\n",
       "0  one eye past future sbc communication last wee...   \n",
       "1  lawsuit alleges sprint violated utah new anti ...   \n",
       "2  hutchison telecommunication singapore technolo...   \n",
       "\n",
       "                                  Extracted_Keywords  \n",
       "0  regulatory burden,future sbc communication,lon...  \n",
       "1  door new regulation telecom service provider,u...  \n",
       "2  control global crossing lot,hutchison telecomm...  "
      ]
     },
     "execution_count": 286,
     "metadata": {},
     "output_type": "execute_result"
    }
   ],
   "source": [
    "res"
   ]
  },
  {
   "cell_type": "code",
   "execution_count": null,
   "id": "detailed-active",
   "metadata": {},
   "outputs": [],
   "source": []
  }
 ],
 "metadata": {
  "kernelspec": {
   "display_name": "Python 3",
   "language": "python",
   "name": "python3"
  },
  "language_info": {
   "codemirror_mode": {
    "name": "ipython",
    "version": 3
   },
   "file_extension": ".py",
   "mimetype": "text/x-python",
   "name": "python",
   "nbconvert_exporter": "python",
   "pygments_lexer": "ipython3",
   "version": "3.9.4"
  }
 },
 "nbformat": 4,
 "nbformat_minor": 5
}
