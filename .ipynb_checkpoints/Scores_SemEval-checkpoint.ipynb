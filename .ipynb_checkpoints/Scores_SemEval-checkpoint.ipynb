{
 "cells": [
  {
   "cell_type": "code",
   "execution_count": 1,
   "id": "vocational-philosophy",
   "metadata": {},
   "outputs": [],
   "source": [
    "import pandas as pd\n",
    "# Evaluation Metrics (ROUGE)\n",
    "from rouge_score import rouge_scorer\n",
    "import numpy as np"
   ]
  },
  {
   "cell_type": "markdown",
   "id": "intellectual-focus",
   "metadata": {},
   "source": [
    "### Reading all the predicted_files for evaluating results"
   ]
  },
  {
   "cell_type": "code",
   "execution_count": 2,
   "id": "hairy-gauge",
   "metadata": {},
   "outputs": [],
   "source": [
    "# RAKE predictions\n",
    "rake_pred_df = pd.read_pickle('semeval_results/rake_pred_df.pkl')\n",
    "\n",
    "# YAKE predictions\n",
    "yake_pred_df = pd.read_pickle('semeval_results/yake_pred_df.pkl')\n",
    "\n",
    "# TF-IDF predictions\n",
    "tf_idf_pred_df = pd.read_pickle('semeval_results/tf_idf_pred_df.pkl')\n",
    "\n",
    "# KeyBERT predictions\n",
    "key_bert_pred_df = pd.read_pickle('semeval_results/key_bert_pred_df.pkl')\n",
    "\n",
    "# LDA predictions\n",
    "lda_pred_df = pd.read_pickle('semeval_results/lda_pred_df.pkl')\n",
    "\n",
    "# PositionRank predictions\n",
    "pr_pred_df = pd.read_pickle('semeval_results/pos_rank_pred_df.pkl')"
   ]
  },
  {
   "cell_type": "markdown",
   "id": "similar-black",
   "metadata": {},
   "source": [
    "### Refrence Dataset with labeled keywords\n",
    "- This data frame is used to evalute the results for the predicted keywords"
   ]
  },
  {
   "cell_type": "code",
   "execution_count": 3,
   "id": "institutional-search",
   "metadata": {},
   "outputs": [],
   "source": [
    "data = pd.read_pickle('data/Processed_SemEval.pkl')"
   ]
  },
  {
   "cell_type": "code",
   "execution_count": 4,
   "id": "russian-florence",
   "metadata": {},
   "outputs": [
    {
     "data": {
      "text/html": [
       "<div>\n",
       "<style scoped>\n",
       "    .dataframe tbody tr th:only-of-type {\n",
       "        vertical-align: middle;\n",
       "    }\n",
       "\n",
       "    .dataframe tbody tr th {\n",
       "        vertical-align: top;\n",
       "    }\n",
       "\n",
       "    .dataframe thead th {\n",
       "        text-align: right;\n",
       "    }\n",
       "</style>\n",
       "<table border=\"1\" class=\"dataframe\">\n",
       "  <thead>\n",
       "    <tr style=\"text-align: right;\">\n",
       "      <th></th>\n",
       "      <th>Doc_no</th>\n",
       "      <th>Title</th>\n",
       "      <th>Abstract</th>\n",
       "      <th>Keywords</th>\n",
       "    </tr>\n",
       "  </thead>\n",
       "  <tbody>\n",
       "    <tr>\n",
       "      <th>0</th>\n",
       "      <td>6</td>\n",
       "      <td>SBC gets more serious on regulatory compliance</td>\n",
       "      <td>eye past future sbc communication week created...</td>\n",
       "      <td>telecommunication,sbc communications,regulator...</td>\n",
       "    </tr>\n",
       "    <tr>\n",
       "      <th>1</th>\n",
       "      <td>7</td>\n",
       "      <td>Anti-spam suit attempts to hold carriers accou...</td>\n",
       "      <td>lawsuit alleges sprint violated utah new anti ...</td>\n",
       "      <td>electronic mail,legislation,telecommunication,...</td>\n",
       "    </tr>\n",
       "    <tr>\n",
       "      <th>2</th>\n",
       "      <td>8</td>\n",
       "      <td>New investors get steal of a deal [Global Cros...</td>\n",
       "      <td>hutchison telecommunication singapore technolo...</td>\n",
       "      <td>telecommunication,hutchison telecommunications...</td>\n",
       "    </tr>\n",
       "    <tr>\n",
       "      <th>3</th>\n",
       "      <td>9</td>\n",
       "      <td>Achieving competitive capabilities in e-services</td>\n",
       "      <td>implication internet service operation strateg...</td>\n",
       "      <td>corporate modelling,electronic commerce,intern...</td>\n",
       "    </tr>\n",
       "    <tr>\n",
       "      <th>4</th>\n",
       "      <td>11</td>\n",
       "      <td>Does social capital determine innovation? To w...</td>\n",
       "      <td>paper deal question social capital determine i...</td>\n",
       "      <td>corporate modelling,decision theory,manufactur...</td>\n",
       "    </tr>\n",
       "    <tr>\n",
       "      <th>...</th>\n",
       "      <td>...</td>\n",
       "      <td>...</td>\n",
       "      <td>...</td>\n",
       "      <td>...</td>\n",
       "    </tr>\n",
       "    <tr>\n",
       "      <th>495</th>\n",
       "      <td>946</td>\n",
       "      <td>Entanglement measures with asymptotic weak-mon...</td>\n",
       "      <td>propose entanglement measure asymptotic weak m...</td>\n",
       "      <td>quantum computing,quantum interference phenome...</td>\n",
       "    </tr>\n",
       "    <tr>\n",
       "      <th>496</th>\n",
       "      <td>947</td>\n",
       "      <td>The fully entangled fraction as an inclusive m...</td>\n",
       "      <td>characterizing entanglement simplest case qubi...</td>\n",
       "      <td>information theory,quantum communication,quant...</td>\n",
       "    </tr>\n",
       "    <tr>\n",
       "      <th>497</th>\n",
       "      <td>948</td>\n",
       "      <td>Pairwise thermal entanglement in the n-qubit (...</td>\n",
       "      <td>calculated concurrence pairwise thermal entang...</td>\n",
       "      <td>heisenberg model,quantum computing,quantum int...</td>\n",
       "    </tr>\n",
       "    <tr>\n",
       "      <th>498</th>\n",
       "      <td>949</td>\n",
       "      <td>Reply to \"Comment on: Teleportation of an unkn...</td>\n",
       "      <td>letter ibid vol p main question consider gener...</td>\n",
       "      <td>probability,quantum communication,quantum theo...</td>\n",
       "    </tr>\n",
       "    <tr>\n",
       "      <th>499</th>\n",
       "      <td>950</td>\n",
       "      <td>Quantum sensitive dependence</td>\n",
       "      <td>wave function bounded quantum system time inde...</td>\n",
       "      <td>bound states,chaos,lyapunov methods,matrix alg...</td>\n",
       "    </tr>\n",
       "  </tbody>\n",
       "</table>\n",
       "<p>500 rows × 4 columns</p>\n",
       "</div>"
      ],
      "text/plain": [
       "     Doc_no                                              Title  \\\n",
       "0         6     SBC gets more serious on regulatory compliance   \n",
       "1         7  Anti-spam suit attempts to hold carriers accou...   \n",
       "2         8  New investors get steal of a deal [Global Cros...   \n",
       "3         9   Achieving competitive capabilities in e-services   \n",
       "4        11  Does social capital determine innovation? To w...   \n",
       "..      ...                                                ...   \n",
       "495     946  Entanglement measures with asymptotic weak-mon...   \n",
       "496     947  The fully entangled fraction as an inclusive m...   \n",
       "497     948  Pairwise thermal entanglement in the n-qubit (...   \n",
       "498     949  Reply to \"Comment on: Teleportation of an unkn...   \n",
       "499     950                       Quantum sensitive dependence   \n",
       "\n",
       "                                              Abstract  \\\n",
       "0    eye past future sbc communication week created...   \n",
       "1    lawsuit alleges sprint violated utah new anti ...   \n",
       "2    hutchison telecommunication singapore technolo...   \n",
       "3    implication internet service operation strateg...   \n",
       "4    paper deal question social capital determine i...   \n",
       "..                                                 ...   \n",
       "495  propose entanglement measure asymptotic weak m...   \n",
       "496  characterizing entanglement simplest case qubi...   \n",
       "497  calculated concurrence pairwise thermal entang...   \n",
       "498  letter ibid vol p main question consider gener...   \n",
       "499  wave function bounded quantum system time inde...   \n",
       "\n",
       "                                              Keywords  \n",
       "0    telecommunication,sbc communications,regulator...  \n",
       "1    electronic mail,legislation,telecommunication,...  \n",
       "2    telecommunication,hutchison telecommunications...  \n",
       "3    corporate modelling,electronic commerce,intern...  \n",
       "4    corporate modelling,decision theory,manufactur...  \n",
       "..                                                 ...  \n",
       "495  quantum computing,quantum interference phenome...  \n",
       "496  information theory,quantum communication,quant...  \n",
       "497  heisenberg model,quantum computing,quantum int...  \n",
       "498  probability,quantum communication,quantum theo...  \n",
       "499  bound states,chaos,lyapunov methods,matrix alg...  \n",
       "\n",
       "[500 rows x 4 columns]"
      ]
     },
     "execution_count": 4,
     "metadata": {},
     "output_type": "execute_result"
    }
   ],
   "source": [
    "data"
   ]
  },
  {
   "cell_type": "code",
   "execution_count": 5,
   "id": "indonesian-times",
   "metadata": {},
   "outputs": [],
   "source": [
    "doc_no = data['Doc_no']\n",
    "abstracts = data['Abstract']\n",
    "refrence_data = data['Keywords'].tolist()"
   ]
  },
  {
   "cell_type": "code",
   "execution_count": 6,
   "id": "japanese-livestock",
   "metadata": {},
   "outputs": [],
   "source": [
    "\"\"\"\n",
    "All the algorithms realted results\n",
    "\"\"\"\n",
    "algorithm = [\"RAKE\", \"YAKE\", \"TF-IDF\", \"KeyBERT\", \"LDA\", \"Position Rank\"]\n",
    "algo_precision_scores = []\n",
    "algo_recall_scores = []\n",
    "algo_f1_scores = []"
   ]
  },
  {
   "cell_type": "markdown",
   "id": "unnecessary-hanging",
   "metadata": {},
   "source": [
    "### ROUGE Metrics for Evaluation of the results"
   ]
  },
  {
   "cell_type": "code",
   "execution_count": 7,
   "id": "acknowledged-comfort",
   "metadata": {},
   "outputs": [],
   "source": [
    "\"\"\"\n",
    "This function returns the average of precision, recall and f1score\n",
    "based on the score from rouge1, rouge2, rougeL rounding off the final \n",
    "value to 2 decimal places for each doc in the dataset\n",
    "\"\"\"\n",
    "def get_avg_scores(result):\n",
    "    precision_score = []\n",
    "    recall_score = []\n",
    "    f1_score = []\n",
    "    for rouge in ['rouge1','rouge2','rougeL']:\n",
    "        precision_score.append(result[rouge][0])\n",
    "        recall_score.append(result[rouge][1])\n",
    "        f1_score.append(result[rouge][2])\n",
    "    precision_score = np.round(np.average(precision_score), 2)\n",
    "    recall_score = np.round(np.average(recall_score), 2)\n",
    "    f1_score = np.round(np.average(f1_score), 2)\n",
    "    return precision_score, recall_score, f1_score"
   ]
  },
  {
   "cell_type": "code",
   "execution_count": 8,
   "id": "honest-assistant",
   "metadata": {},
   "outputs": [],
   "source": [
    "def get_Rouge_scores(refrence_data, test_data):\n",
    "    precision_score = []\n",
    "    recall_score = []\n",
    "    f1_score = []\n",
    "    \n",
    "    for refrence, test in zip(refrence_data, test_data):\n",
    "        \n",
    "        # modifying the format as a string with spaces\n",
    "        refrence = refrence.replace(\",\", \" \")\n",
    "        test = test.replace(\",\", \" \")\n",
    "        scorer = rouge_scorer.RougeScorer(['rouge1','rouge2','rougeL'], use_stemmer=True)\n",
    "        scores = scorer.score(refrence, test)\n",
    "        \n",
    "        # Getting the avg scores and appending them to the list\n",
    "        p_score, r_score, f_score = get_avg_scores(scores)\n",
    "        precision_score.append(p_score)\n",
    "        recall_score.append(r_score)\n",
    "        f1_score.append(f_score)\n",
    "        \n",
    "    results_df = pd.DataFrame(zip(doc_no,abstracts,precision_score, recall_score, f1_score), columns=['Doc_no', 'Abstract','Avg_precision_score','Avg_recall_score','Avg_f1_score'])\n",
    "    return results_df"
   ]
  },
  {
   "cell_type": "code",
   "execution_count": 9,
   "id": "national-voice",
   "metadata": {},
   "outputs": [],
   "source": [
    "\"\"\"\n",
    "This method returns the average scores for \n",
    "Precison, Recall and F1 \n",
    "on the whole document\n",
    "\"\"\"\n",
    "def get_final_results(result):\n",
    "    return np.average(result['Avg_precision_score']),np.average(result['Avg_recall_score']),np.average(result['Avg_f1_score'])"
   ]
  },
  {
   "cell_type": "markdown",
   "id": "warming-navigator",
   "metadata": {},
   "source": [
    "### Results for the RAKE Algorithm"
   ]
  },
  {
   "cell_type": "code",
   "execution_count": 10,
   "id": "structured-fluid",
   "metadata": {},
   "outputs": [],
   "source": [
    "rake_data = rake_pred_df['Extracted_Keywords'].tolist()"
   ]
  },
  {
   "cell_type": "code",
   "execution_count": 11,
   "id": "scientific-pension",
   "metadata": {},
   "outputs": [],
   "source": [
    "rake_results = get_Rouge_scores(refrence_data, rake_data)"
   ]
  },
  {
   "cell_type": "code",
   "execution_count": 12,
   "id": "imposed-replacement",
   "metadata": {},
   "outputs": [
    {
     "data": {
      "text/html": [
       "<div>\n",
       "<style scoped>\n",
       "    .dataframe tbody tr th:only-of-type {\n",
       "        vertical-align: middle;\n",
       "    }\n",
       "\n",
       "    .dataframe tbody tr th {\n",
       "        vertical-align: top;\n",
       "    }\n",
       "\n",
       "    .dataframe thead th {\n",
       "        text-align: right;\n",
       "    }\n",
       "</style>\n",
       "<table border=\"1\" class=\"dataframe\">\n",
       "  <thead>\n",
       "    <tr style=\"text-align: right;\">\n",
       "      <th></th>\n",
       "      <th>Doc_no</th>\n",
       "      <th>Abstract</th>\n",
       "      <th>Avg_precision_score</th>\n",
       "      <th>Avg_recall_score</th>\n",
       "      <th>Avg_f1_score</th>\n",
       "    </tr>\n",
       "  </thead>\n",
       "  <tbody>\n",
       "    <tr>\n",
       "      <th>0</th>\n",
       "      <td>6</td>\n",
       "      <td>eye past future sbc communication week created...</td>\n",
       "      <td>0.11</td>\n",
       "      <td>0.29</td>\n",
       "      <td>0.16</td>\n",
       "    </tr>\n",
       "    <tr>\n",
       "      <th>1</th>\n",
       "      <td>7</td>\n",
       "      <td>lawsuit alleges sprint violated utah new anti ...</td>\n",
       "      <td>0.36</td>\n",
       "      <td>0.44</td>\n",
       "      <td>0.40</td>\n",
       "    </tr>\n",
       "    <tr>\n",
       "      <th>2</th>\n",
       "      <td>8</td>\n",
       "      <td>hutchison telecommunication singapore technolo...</td>\n",
       "      <td>0.27</td>\n",
       "      <td>0.47</td>\n",
       "      <td>0.34</td>\n",
       "    </tr>\n",
       "    <tr>\n",
       "      <th>3</th>\n",
       "      <td>9</td>\n",
       "      <td>implication internet service operation strateg...</td>\n",
       "      <td>0.43</td>\n",
       "      <td>0.15</td>\n",
       "      <td>0.22</td>\n",
       "    </tr>\n",
       "    <tr>\n",
       "      <th>4</th>\n",
       "      <td>11</td>\n",
       "      <td>paper deal question social capital determine i...</td>\n",
       "      <td>0.34</td>\n",
       "      <td>0.17</td>\n",
       "      <td>0.22</td>\n",
       "    </tr>\n",
       "  </tbody>\n",
       "</table>\n",
       "</div>"
      ],
      "text/plain": [
       "   Doc_no                                           Abstract  \\\n",
       "0       6  eye past future sbc communication week created...   \n",
       "1       7  lawsuit alleges sprint violated utah new anti ...   \n",
       "2       8  hutchison telecommunication singapore technolo...   \n",
       "3       9  implication internet service operation strateg...   \n",
       "4      11  paper deal question social capital determine i...   \n",
       "\n",
       "   Avg_precision_score  Avg_recall_score  Avg_f1_score  \n",
       "0                 0.11              0.29          0.16  \n",
       "1                 0.36              0.44          0.40  \n",
       "2                 0.27              0.47          0.34  \n",
       "3                 0.43              0.15          0.22  \n",
       "4                 0.34              0.17          0.22  "
      ]
     },
     "execution_count": 12,
     "metadata": {},
     "output_type": "execute_result"
    }
   ],
   "source": [
    "rake_results.head()"
   ]
  },
  {
   "cell_type": "code",
   "execution_count": 13,
   "id": "vocal-individual",
   "metadata": {},
   "outputs": [
    {
     "name": "stdout",
     "output_type": "stream",
     "text": [
      "---------------- RAKE RESULTS ----------------\n",
      "1. Avg. Precision score on the whole document : 0.34786\n",
      "2. Avg. Recall score on the whole document : 0.20124\n",
      "3. Avg. F1 score on the whole document : 0.2417\n"
     ]
    }
   ],
   "source": [
    "print(\"---------------- RAKE RESULTS ----------------\")\n",
    "final_res = get_final_results(rake_results)\n",
    "algo_precision_scores.append(final_res[0])\n",
    "algo_recall_scores.append(final_res[1])\n",
    "algo_f1_scores.append(final_res[2])\n",
    "print(f\"1. Avg. Precision score on the whole document : {final_res[0]}\")\n",
    "print(f\"2. Avg. Recall score on the whole document : {final_res[1]}\")\n",
    "print(f\"3. Avg. F1 score on the whole document : {final_res[2]}\")"
   ]
  },
  {
   "cell_type": "markdown",
   "id": "stable-source",
   "metadata": {},
   "source": [
    "### Results for the YAKE Algorithm"
   ]
  },
  {
   "cell_type": "code",
   "execution_count": 14,
   "id": "rocky-pollution",
   "metadata": {},
   "outputs": [],
   "source": [
    "yake_data = yake_pred_df['Extracted_Keywords'].tolist()"
   ]
  },
  {
   "cell_type": "code",
   "execution_count": 15,
   "id": "permanent-deputy",
   "metadata": {},
   "outputs": [],
   "source": [
    "yake_results = get_Rouge_scores(refrence_data, yake_data)"
   ]
  },
  {
   "cell_type": "code",
   "execution_count": 16,
   "id": "ultimate-harassment",
   "metadata": {},
   "outputs": [
    {
     "data": {
      "text/html": [
       "<div>\n",
       "<style scoped>\n",
       "    .dataframe tbody tr th:only-of-type {\n",
       "        vertical-align: middle;\n",
       "    }\n",
       "\n",
       "    .dataframe tbody tr th {\n",
       "        vertical-align: top;\n",
       "    }\n",
       "\n",
       "    .dataframe thead th {\n",
       "        text-align: right;\n",
       "    }\n",
       "</style>\n",
       "<table border=\"1\" class=\"dataframe\">\n",
       "  <thead>\n",
       "    <tr style=\"text-align: right;\">\n",
       "      <th></th>\n",
       "      <th>Doc_no</th>\n",
       "      <th>Abstract</th>\n",
       "      <th>Avg_precision_score</th>\n",
       "      <th>Avg_recall_score</th>\n",
       "      <th>Avg_f1_score</th>\n",
       "    </tr>\n",
       "  </thead>\n",
       "  <tbody>\n",
       "    <tr>\n",
       "      <th>0</th>\n",
       "      <td>6</td>\n",
       "      <td>eye past future sbc communication week created...</td>\n",
       "      <td>0.19</td>\n",
       "      <td>0.40</td>\n",
       "      <td>0.26</td>\n",
       "    </tr>\n",
       "    <tr>\n",
       "      <th>1</th>\n",
       "      <td>7</td>\n",
       "      <td>lawsuit alleges sprint violated utah new anti ...</td>\n",
       "      <td>0.36</td>\n",
       "      <td>0.39</td>\n",
       "      <td>0.38</td>\n",
       "    </tr>\n",
       "    <tr>\n",
       "      <th>2</th>\n",
       "      <td>8</td>\n",
       "      <td>hutchison telecommunication singapore technolo...</td>\n",
       "      <td>0.41</td>\n",
       "      <td>0.73</td>\n",
       "      <td>0.53</td>\n",
       "    </tr>\n",
       "    <tr>\n",
       "      <th>3</th>\n",
       "      <td>9</td>\n",
       "      <td>implication internet service operation strateg...</td>\n",
       "      <td>0.46</td>\n",
       "      <td>0.12</td>\n",
       "      <td>0.19</td>\n",
       "    </tr>\n",
       "    <tr>\n",
       "      <th>4</th>\n",
       "      <td>11</td>\n",
       "      <td>paper deal question social capital determine i...</td>\n",
       "      <td>0.27</td>\n",
       "      <td>0.09</td>\n",
       "      <td>0.14</td>\n",
       "    </tr>\n",
       "  </tbody>\n",
       "</table>\n",
       "</div>"
      ],
      "text/plain": [
       "   Doc_no                                           Abstract  \\\n",
       "0       6  eye past future sbc communication week created...   \n",
       "1       7  lawsuit alleges sprint violated utah new anti ...   \n",
       "2       8  hutchison telecommunication singapore technolo...   \n",
       "3       9  implication internet service operation strateg...   \n",
       "4      11  paper deal question social capital determine i...   \n",
       "\n",
       "   Avg_precision_score  Avg_recall_score  Avg_f1_score  \n",
       "0                 0.19              0.40          0.26  \n",
       "1                 0.36              0.39          0.38  \n",
       "2                 0.41              0.73          0.53  \n",
       "3                 0.46              0.12          0.19  \n",
       "4                 0.27              0.09          0.14  "
      ]
     },
     "execution_count": 16,
     "metadata": {},
     "output_type": "execute_result"
    }
   ],
   "source": [
    "yake_results.head()"
   ]
  },
  {
   "cell_type": "code",
   "execution_count": 17,
   "id": "identified-blend",
   "metadata": {},
   "outputs": [
    {
     "name": "stdout",
     "output_type": "stream",
     "text": [
      "---------------- YAKE RESULTS ----------------\n",
      "1. Avg. Precision score on the whole document : 0.32258000000000003\n",
      "2. Avg. Recall score on the whole document : 0.16119999999999998\n",
      "3. Avg. F1 score on the whole document : 0.19832\n"
     ]
    }
   ],
   "source": [
    "print(\"---------------- YAKE RESULTS ----------------\")\n",
    "final_res = get_final_results(yake_results)\n",
    "algo_precision_scores.append(final_res[0])\n",
    "algo_recall_scores.append(final_res[1])\n",
    "algo_f1_scores.append(final_res[2])\n",
    "print(f\"1. Avg. Precision score on the whole document : {final_res[0]}\")\n",
    "print(f\"2. Avg. Recall score on the whole document : {final_res[1]}\")\n",
    "print(f\"3. Avg. F1 score on the whole document : {final_res[2]}\")"
   ]
  },
  {
   "cell_type": "markdown",
   "id": "charitable-namibia",
   "metadata": {},
   "source": [
    "### Results for TF-IDF"
   ]
  },
  {
   "cell_type": "code",
   "execution_count": 18,
   "id": "secret-rough",
   "metadata": {},
   "outputs": [],
   "source": [
    "tf_idf_data = tf_idf_pred_df['Extracted_Keywords'].tolist()"
   ]
  },
  {
   "cell_type": "code",
   "execution_count": 19,
   "id": "champion-ocean",
   "metadata": {},
   "outputs": [],
   "source": [
    "tf_idf_results = get_Rouge_scores(refrence_data, tf_idf_data)"
   ]
  },
  {
   "cell_type": "code",
   "execution_count": 20,
   "id": "twelve-volume",
   "metadata": {},
   "outputs": [
    {
     "data": {
      "text/html": [
       "<div>\n",
       "<style scoped>\n",
       "    .dataframe tbody tr th:only-of-type {\n",
       "        vertical-align: middle;\n",
       "    }\n",
       "\n",
       "    .dataframe tbody tr th {\n",
       "        vertical-align: top;\n",
       "    }\n",
       "\n",
       "    .dataframe thead th {\n",
       "        text-align: right;\n",
       "    }\n",
       "</style>\n",
       "<table border=\"1\" class=\"dataframe\">\n",
       "  <thead>\n",
       "    <tr style=\"text-align: right;\">\n",
       "      <th></th>\n",
       "      <th>Doc_no</th>\n",
       "      <th>Abstract</th>\n",
       "      <th>Avg_precision_score</th>\n",
       "      <th>Avg_recall_score</th>\n",
       "      <th>Avg_f1_score</th>\n",
       "    </tr>\n",
       "  </thead>\n",
       "  <tbody>\n",
       "    <tr>\n",
       "      <th>0</th>\n",
       "      <td>6</td>\n",
       "      <td>eye past future sbc communication week created...</td>\n",
       "      <td>0.11</td>\n",
       "      <td>0.25</td>\n",
       "      <td>0.15</td>\n",
       "    </tr>\n",
       "    <tr>\n",
       "      <th>1</th>\n",
       "      <td>7</td>\n",
       "      <td>lawsuit alleges sprint violated utah new anti ...</td>\n",
       "      <td>0.21</td>\n",
       "      <td>0.26</td>\n",
       "      <td>0.23</td>\n",
       "    </tr>\n",
       "    <tr>\n",
       "      <th>2</th>\n",
       "      <td>8</td>\n",
       "      <td>hutchison telecommunication singapore technolo...</td>\n",
       "      <td>0.23</td>\n",
       "      <td>0.47</td>\n",
       "      <td>0.31</td>\n",
       "    </tr>\n",
       "    <tr>\n",
       "      <th>3</th>\n",
       "      <td>9</td>\n",
       "      <td>implication internet service operation strateg...</td>\n",
       "      <td>0.57</td>\n",
       "      <td>0.17</td>\n",
       "      <td>0.27</td>\n",
       "    </tr>\n",
       "    <tr>\n",
       "      <th>4</th>\n",
       "      <td>11</td>\n",
       "      <td>paper deal question social capital determine i...</td>\n",
       "      <td>0.30</td>\n",
       "      <td>0.12</td>\n",
       "      <td>0.17</td>\n",
       "    </tr>\n",
       "  </tbody>\n",
       "</table>\n",
       "</div>"
      ],
      "text/plain": [
       "   Doc_no                                           Abstract  \\\n",
       "0       6  eye past future sbc communication week created...   \n",
       "1       7  lawsuit alleges sprint violated utah new anti ...   \n",
       "2       8  hutchison telecommunication singapore technolo...   \n",
       "3       9  implication internet service operation strateg...   \n",
       "4      11  paper deal question social capital determine i...   \n",
       "\n",
       "   Avg_precision_score  Avg_recall_score  Avg_f1_score  \n",
       "0                 0.11              0.25          0.15  \n",
       "1                 0.21              0.26          0.23  \n",
       "2                 0.23              0.47          0.31  \n",
       "3                 0.57              0.17          0.27  \n",
       "4                 0.30              0.12          0.17  "
      ]
     },
     "execution_count": 20,
     "metadata": {},
     "output_type": "execute_result"
    }
   ],
   "source": [
    "tf_idf_results.head()"
   ]
  },
  {
   "cell_type": "code",
   "execution_count": 21,
   "id": "several-superior",
   "metadata": {},
   "outputs": [
    {
     "name": "stdout",
     "output_type": "stream",
     "text": [
      "---------------- TF-IDF RESULTS ----------------\n",
      "1. Avg. Precision score on the whole document : 0.29417999999999994\n",
      "2. Avg. Recall score on the whole document : 0.16390000000000002\n",
      "3. Avg. F1 score on the whole document : 0.19407999999999997\n"
     ]
    }
   ],
   "source": [
    "print(\"---------------- TF-IDF RESULTS ----------------\")\n",
    "final_res = get_final_results(tf_idf_results)\n",
    "algo_precision_scores.append(final_res[0])\n",
    "algo_recall_scores.append(final_res[1])\n",
    "algo_f1_scores.append(final_res[2])\n",
    "print(f\"1. Avg. Precision score on the whole document : {final_res[0]}\")\n",
    "print(f\"2. Avg. Recall score on the whole document : {final_res[1]}\")\n",
    "print(f\"3. Avg. F1 score on the whole document : {final_res[2]}\")"
   ]
  },
  {
   "cell_type": "markdown",
   "id": "mental-positive",
   "metadata": {},
   "source": [
    "### Results for KeyBert Algorithm"
   ]
  },
  {
   "cell_type": "code",
   "execution_count": 22,
   "id": "legal-aaron",
   "metadata": {},
   "outputs": [],
   "source": [
    "kb_data = key_bert_pred_df['Extracted_Keywords'].tolist()"
   ]
  },
  {
   "cell_type": "code",
   "execution_count": 23,
   "id": "informed-influence",
   "metadata": {},
   "outputs": [],
   "source": [
    "kb_results = get_Rouge_scores(refrence_data, kb_data)"
   ]
  },
  {
   "cell_type": "code",
   "execution_count": 24,
   "id": "sound-recording",
   "metadata": {},
   "outputs": [
    {
     "data": {
      "text/html": [
       "<div>\n",
       "<style scoped>\n",
       "    .dataframe tbody tr th:only-of-type {\n",
       "        vertical-align: middle;\n",
       "    }\n",
       "\n",
       "    .dataframe tbody tr th {\n",
       "        vertical-align: top;\n",
       "    }\n",
       "\n",
       "    .dataframe thead th {\n",
       "        text-align: right;\n",
       "    }\n",
       "</style>\n",
       "<table border=\"1\" class=\"dataframe\">\n",
       "  <thead>\n",
       "    <tr style=\"text-align: right;\">\n",
       "      <th></th>\n",
       "      <th>Doc_no</th>\n",
       "      <th>Abstract</th>\n",
       "      <th>Avg_precision_score</th>\n",
       "      <th>Avg_recall_score</th>\n",
       "      <th>Avg_f1_score</th>\n",
       "    </tr>\n",
       "  </thead>\n",
       "  <tbody>\n",
       "    <tr>\n",
       "      <th>0</th>\n",
       "      <td>6</td>\n",
       "      <td>eye past future sbc communication week created...</td>\n",
       "      <td>0.25</td>\n",
       "      <td>0.54</td>\n",
       "      <td>0.34</td>\n",
       "    </tr>\n",
       "    <tr>\n",
       "      <th>1</th>\n",
       "      <td>7</td>\n",
       "      <td>lawsuit alleges sprint violated utah new anti ...</td>\n",
       "      <td>0.19</td>\n",
       "      <td>0.21</td>\n",
       "      <td>0.20</td>\n",
       "    </tr>\n",
       "    <tr>\n",
       "      <th>2</th>\n",
       "      <td>8</td>\n",
       "      <td>hutchison telecommunication singapore technolo...</td>\n",
       "      <td>0.05</td>\n",
       "      <td>0.08</td>\n",
       "      <td>0.06</td>\n",
       "    </tr>\n",
       "    <tr>\n",
       "      <th>3</th>\n",
       "      <td>9</td>\n",
       "      <td>implication internet service operation strateg...</td>\n",
       "      <td>0.47</td>\n",
       "      <td>0.14</td>\n",
       "      <td>0.21</td>\n",
       "    </tr>\n",
       "    <tr>\n",
       "      <th>4</th>\n",
       "      <td>11</td>\n",
       "      <td>paper deal question social capital determine i...</td>\n",
       "      <td>0.25</td>\n",
       "      <td>0.09</td>\n",
       "      <td>0.13</td>\n",
       "    </tr>\n",
       "  </tbody>\n",
       "</table>\n",
       "</div>"
      ],
      "text/plain": [
       "   Doc_no                                           Abstract  \\\n",
       "0       6  eye past future sbc communication week created...   \n",
       "1       7  lawsuit alleges sprint violated utah new anti ...   \n",
       "2       8  hutchison telecommunication singapore technolo...   \n",
       "3       9  implication internet service operation strateg...   \n",
       "4      11  paper deal question social capital determine i...   \n",
       "\n",
       "   Avg_precision_score  Avg_recall_score  Avg_f1_score  \n",
       "0                 0.25              0.54          0.34  \n",
       "1                 0.19              0.21          0.20  \n",
       "2                 0.05              0.08          0.06  \n",
       "3                 0.47              0.14          0.21  \n",
       "4                 0.25              0.09          0.13  "
      ]
     },
     "execution_count": 24,
     "metadata": {},
     "output_type": "execute_result"
    }
   ],
   "source": [
    "kb_results.head()"
   ]
  },
  {
   "cell_type": "code",
   "execution_count": 25,
   "id": "respective-morgan",
   "metadata": {},
   "outputs": [
    {
     "name": "stdout",
     "output_type": "stream",
     "text": [
      "---------------- KeyBERT RESULTS ----------------\n",
      "1. Avg. Precision score on the whole document : 0.311\n",
      "2. Avg. Recall score on the whole document : 0.15896\n",
      "3. Avg. F1 score on the whole document : 0.19533999999999999\n"
     ]
    }
   ],
   "source": [
    "print(\"---------------- KeyBERT RESULTS ----------------\")\n",
    "final_res = get_final_results(kb_results)\n",
    "algo_precision_scores.append(final_res[0])\n",
    "algo_recall_scores.append(final_res[1])\n",
    "algo_f1_scores.append(final_res[2])\n",
    "print(f\"1. Avg. Precision score on the whole document : {final_res[0]}\")\n",
    "print(f\"2. Avg. Recall score on the whole document : {final_res[1]}\")\n",
    "print(f\"3. Avg. F1 score on the whole document : {final_res[2]}\")"
   ]
  },
  {
   "cell_type": "markdown",
   "id": "external-girlfriend",
   "metadata": {},
   "source": [
    "### Results for LDA Algorithm"
   ]
  },
  {
   "cell_type": "code",
   "execution_count": 26,
   "id": "returning-ozone",
   "metadata": {},
   "outputs": [],
   "source": [
    "lda_data = lda_pred_df['Extracted_Keywords'].tolist()"
   ]
  },
  {
   "cell_type": "code",
   "execution_count": 27,
   "id": "adapted-threshold",
   "metadata": {},
   "outputs": [],
   "source": [
    "lda_results = get_Rouge_scores(refrence_data, lda_data)"
   ]
  },
  {
   "cell_type": "code",
   "execution_count": 28,
   "id": "green-display",
   "metadata": {},
   "outputs": [
    {
     "data": {
      "text/html": [
       "<div>\n",
       "<style scoped>\n",
       "    .dataframe tbody tr th:only-of-type {\n",
       "        vertical-align: middle;\n",
       "    }\n",
       "\n",
       "    .dataframe tbody tr th {\n",
       "        vertical-align: top;\n",
       "    }\n",
       "\n",
       "    .dataframe thead th {\n",
       "        text-align: right;\n",
       "    }\n",
       "</style>\n",
       "<table border=\"1\" class=\"dataframe\">\n",
       "  <thead>\n",
       "    <tr style=\"text-align: right;\">\n",
       "      <th></th>\n",
       "      <th>Doc_no</th>\n",
       "      <th>Abstract</th>\n",
       "      <th>Avg_precision_score</th>\n",
       "      <th>Avg_recall_score</th>\n",
       "      <th>Avg_f1_score</th>\n",
       "    </tr>\n",
       "  </thead>\n",
       "  <tbody>\n",
       "    <tr>\n",
       "      <th>0</th>\n",
       "      <td>6</td>\n",
       "      <td>eye past future sbc communication week created...</td>\n",
       "      <td>0.10</td>\n",
       "      <td>0.29</td>\n",
       "      <td>0.14</td>\n",
       "    </tr>\n",
       "    <tr>\n",
       "      <th>1</th>\n",
       "      <td>7</td>\n",
       "      <td>lawsuit alleges sprint violated utah new anti ...</td>\n",
       "      <td>0.26</td>\n",
       "      <td>0.42</td>\n",
       "      <td>0.32</td>\n",
       "    </tr>\n",
       "    <tr>\n",
       "      <th>2</th>\n",
       "      <td>8</td>\n",
       "      <td>hutchison telecommunication singapore technolo...</td>\n",
       "      <td>0.16</td>\n",
       "      <td>0.43</td>\n",
       "      <td>0.23</td>\n",
       "    </tr>\n",
       "    <tr>\n",
       "      <th>3</th>\n",
       "      <td>9</td>\n",
       "      <td>implication internet service operation strateg...</td>\n",
       "      <td>0.51</td>\n",
       "      <td>0.21</td>\n",
       "      <td>0.29</td>\n",
       "    </tr>\n",
       "    <tr>\n",
       "      <th>4</th>\n",
       "      <td>11</td>\n",
       "      <td>paper deal question social capital determine i...</td>\n",
       "      <td>0.24</td>\n",
       "      <td>0.13</td>\n",
       "      <td>0.17</td>\n",
       "    </tr>\n",
       "  </tbody>\n",
       "</table>\n",
       "</div>"
      ],
      "text/plain": [
       "   Doc_no                                           Abstract  \\\n",
       "0       6  eye past future sbc communication week created...   \n",
       "1       7  lawsuit alleges sprint violated utah new anti ...   \n",
       "2       8  hutchison telecommunication singapore technolo...   \n",
       "3       9  implication internet service operation strateg...   \n",
       "4      11  paper deal question social capital determine i...   \n",
       "\n",
       "   Avg_precision_score  Avg_recall_score  Avg_f1_score  \n",
       "0                 0.10              0.29          0.14  \n",
       "1                 0.26              0.42          0.32  \n",
       "2                 0.16              0.43          0.23  \n",
       "3                 0.51              0.21          0.29  \n",
       "4                 0.24              0.13          0.17  "
      ]
     },
     "execution_count": 28,
     "metadata": {},
     "output_type": "execute_result"
    }
   ],
   "source": [
    "lda_results.head()"
   ]
  },
  {
   "cell_type": "code",
   "execution_count": 29,
   "id": "union-census",
   "metadata": {},
   "outputs": [
    {
     "name": "stdout",
     "output_type": "stream",
     "text": [
      "---------------- LDA RESULTS ----------------\n",
      "1. Avg. Precision score on the whole document : 0.26926\n",
      "2. Avg. Recall score on the whole document : 0.19878\n",
      "3. Avg. F1 score on the whole document : 0.21084\n"
     ]
    }
   ],
   "source": [
    "print(\"---------------- LDA RESULTS ----------------\")\n",
    "final_res = get_final_results(lda_results)\n",
    "algo_precision_scores.append(final_res[0])\n",
    "algo_recall_scores.append(final_res[1])\n",
    "algo_f1_scores.append(final_res[2])\n",
    "print(f\"1. Avg. Precision score on the whole document : {final_res[0]}\")\n",
    "print(f\"2. Avg. Recall score on the whole document : {final_res[1]}\")\n",
    "print(f\"3. Avg. F1 score on the whole document : {final_res[2]}\")"
   ]
  },
  {
   "cell_type": "markdown",
   "id": "improving-truck",
   "metadata": {},
   "source": [
    "### Results for PositionRank Algorithm"
   ]
  },
  {
   "cell_type": "code",
   "execution_count": 30,
   "id": "casual-hypothesis",
   "metadata": {},
   "outputs": [],
   "source": [
    "pr_data = pr_pred_df['Extracted_Keywords'].tolist()"
   ]
  },
  {
   "cell_type": "code",
   "execution_count": 31,
   "id": "annual-kruger",
   "metadata": {},
   "outputs": [],
   "source": [
    "pr_results = get_Rouge_scores(refrence_data, pr_data)"
   ]
  },
  {
   "cell_type": "code",
   "execution_count": 32,
   "id": "changed-friend",
   "metadata": {},
   "outputs": [
    {
     "data": {
      "text/html": [
       "<div>\n",
       "<style scoped>\n",
       "    .dataframe tbody tr th:only-of-type {\n",
       "        vertical-align: middle;\n",
       "    }\n",
       "\n",
       "    .dataframe tbody tr th {\n",
       "        vertical-align: top;\n",
       "    }\n",
       "\n",
       "    .dataframe thead th {\n",
       "        text-align: right;\n",
       "    }\n",
       "</style>\n",
       "<table border=\"1\" class=\"dataframe\">\n",
       "  <thead>\n",
       "    <tr style=\"text-align: right;\">\n",
       "      <th></th>\n",
       "      <th>Doc_no</th>\n",
       "      <th>Abstract</th>\n",
       "      <th>Avg_precision_score</th>\n",
       "      <th>Avg_recall_score</th>\n",
       "      <th>Avg_f1_score</th>\n",
       "    </tr>\n",
       "  </thead>\n",
       "  <tbody>\n",
       "    <tr>\n",
       "      <th>0</th>\n",
       "      <td>6</td>\n",
       "      <td>eye past future sbc communication week created...</td>\n",
       "      <td>0.09</td>\n",
       "      <td>0.25</td>\n",
       "      <td>0.14</td>\n",
       "    </tr>\n",
       "    <tr>\n",
       "      <th>1</th>\n",
       "      <td>7</td>\n",
       "      <td>lawsuit alleges sprint violated utah new anti ...</td>\n",
       "      <td>0.39</td>\n",
       "      <td>0.42</td>\n",
       "      <td>0.40</td>\n",
       "    </tr>\n",
       "    <tr>\n",
       "      <th>2</th>\n",
       "      <td>8</td>\n",
       "      <td>hutchison telecommunication singapore technolo...</td>\n",
       "      <td>0.45</td>\n",
       "      <td>0.69</td>\n",
       "      <td>0.55</td>\n",
       "    </tr>\n",
       "    <tr>\n",
       "      <th>3</th>\n",
       "      <td>9</td>\n",
       "      <td>implication internet service operation strateg...</td>\n",
       "      <td>0.37</td>\n",
       "      <td>0.08</td>\n",
       "      <td>0.13</td>\n",
       "    </tr>\n",
       "    <tr>\n",
       "      <th>4</th>\n",
       "      <td>11</td>\n",
       "      <td>paper deal question social capital determine i...</td>\n",
       "      <td>0.13</td>\n",
       "      <td>0.05</td>\n",
       "      <td>0.07</td>\n",
       "    </tr>\n",
       "  </tbody>\n",
       "</table>\n",
       "</div>"
      ],
      "text/plain": [
       "   Doc_no                                           Abstract  \\\n",
       "0       6  eye past future sbc communication week created...   \n",
       "1       7  lawsuit alleges sprint violated utah new anti ...   \n",
       "2       8  hutchison telecommunication singapore technolo...   \n",
       "3       9  implication internet service operation strateg...   \n",
       "4      11  paper deal question social capital determine i...   \n",
       "\n",
       "   Avg_precision_score  Avg_recall_score  Avg_f1_score  \n",
       "0                 0.09              0.25          0.14  \n",
       "1                 0.39              0.42          0.40  \n",
       "2                 0.45              0.69          0.55  \n",
       "3                 0.37              0.08          0.13  \n",
       "4                 0.13              0.05          0.07  "
      ]
     },
     "execution_count": 32,
     "metadata": {},
     "output_type": "execute_result"
    }
   ],
   "source": [
    "pr_results.head()"
   ]
  },
  {
   "cell_type": "code",
   "execution_count": 33,
   "id": "endangered-genesis",
   "metadata": {},
   "outputs": [
    {
     "name": "stdout",
     "output_type": "stream",
     "text": [
      "---------------- PositionRank RESULTS ----------------\n",
      "1. Avg. Precision score on the whole document : 0.3404\n",
      "2. Avg. Recall score on the whole document : 0.17837999999999998\n",
      "3. Avg. F1 score on the whole document : 0.21072\n"
     ]
    }
   ],
   "source": [
    "print(\"---------------- PositionRank RESULTS ----------------\")\n",
    "final_res = get_final_results(pr_results)\n",
    "algo_precision_scores.append(final_res[0])\n",
    "algo_recall_scores.append(final_res[1])\n",
    "algo_f1_scores.append(final_res[2])\n",
    "print(f\"1. Avg. Precision score on the whole document : {final_res[0]}\")\n",
    "print(f\"2. Avg. Recall score on the whole document : {final_res[1]}\")\n",
    "print(f\"3. Avg. F1 score on the whole document : {final_res[2]}\")"
   ]
  },
  {
   "cell_type": "markdown",
   "id": "twenty-conspiracy",
   "metadata": {},
   "source": [
    "### Comparing the overall results"
   ]
  },
  {
   "cell_type": "code",
   "execution_count": 34,
   "id": "interior-arrival",
   "metadata": {},
   "outputs": [],
   "source": [
    "algo_comparision = pd.DataFrame(zip(algorithm, algo_precision_scores, algo_recall_scores, algo_f1_scores), columns=['Algorithm','Avg Precision Score', 'Avg Recall Score','Avg F1 Scores'])"
   ]
  },
  {
   "cell_type": "code",
   "execution_count": 35,
   "id": "protective-kitty",
   "metadata": {},
   "outputs": [
    {
     "name": "stdout",
     "output_type": "stream",
     "text": [
      "\n",
      "----- Comparision of various algorithms for keywords extraction on HULTH2003 dataset -----\n"
     ]
    },
    {
     "data": {
      "text/html": [
       "<div>\n",
       "<style scoped>\n",
       "    .dataframe tbody tr th:only-of-type {\n",
       "        vertical-align: middle;\n",
       "    }\n",
       "\n",
       "    .dataframe tbody tr th {\n",
       "        vertical-align: top;\n",
       "    }\n",
       "\n",
       "    .dataframe thead th {\n",
       "        text-align: right;\n",
       "    }\n",
       "</style>\n",
       "<table border=\"1\" class=\"dataframe\">\n",
       "  <thead>\n",
       "    <tr style=\"text-align: right;\">\n",
       "      <th></th>\n",
       "      <th>Algorithm</th>\n",
       "      <th>Avg Precision Score</th>\n",
       "      <th>Avg Recall Score</th>\n",
       "      <th>Avg F1 Scores_HULTH.ipynb</th>\n",
       "    </tr>\n",
       "  </thead>\n",
       "  <tbody>\n",
       "    <tr>\n",
       "      <th>0</th>\n",
       "      <td>RAKE</td>\n",
       "      <td>0.34786</td>\n",
       "      <td>0.20124</td>\n",
       "      <td>0.24170</td>\n",
       "    </tr>\n",
       "    <tr>\n",
       "      <th>1</th>\n",
       "      <td>YAKE</td>\n",
       "      <td>0.32258</td>\n",
       "      <td>0.16120</td>\n",
       "      <td>0.19832</td>\n",
       "    </tr>\n",
       "    <tr>\n",
       "      <th>2</th>\n",
       "      <td>TF-IDF</td>\n",
       "      <td>0.29418</td>\n",
       "      <td>0.16390</td>\n",
       "      <td>0.19408</td>\n",
       "    </tr>\n",
       "    <tr>\n",
       "      <th>3</th>\n",
       "      <td>KeyBERT</td>\n",
       "      <td>0.31100</td>\n",
       "      <td>0.15896</td>\n",
       "      <td>0.19534</td>\n",
       "    </tr>\n",
       "    <tr>\n",
       "      <th>4</th>\n",
       "      <td>LDA</td>\n",
       "      <td>0.26926</td>\n",
       "      <td>0.19878</td>\n",
       "      <td>0.21084</td>\n",
       "    </tr>\n",
       "    <tr>\n",
       "      <th>5</th>\n",
       "      <td>Position Rank</td>\n",
       "      <td>0.34040</td>\n",
       "      <td>0.17838</td>\n",
       "      <td>0.21072</td>\n",
       "    </tr>\n",
       "  </tbody>\n",
       "</table>\n",
       "</div>"
      ],
      "text/plain": [
       "       Algorithm  Avg Precision Score  Avg Recall Score  \\\n",
       "0           RAKE              0.34786           0.20124   \n",
       "1           YAKE              0.32258           0.16120   \n",
       "2         TF-IDF              0.29418           0.16390   \n",
       "3        KeyBERT              0.31100           0.15896   \n",
       "4            LDA              0.26926           0.19878   \n",
       "5  Position Rank              0.34040           0.17838   \n",
       "\n",
       "   Avg F1 Scores_HULTH.ipynb  \n",
       "0                    0.24170  \n",
       "1                    0.19832  \n",
       "2                    0.19408  \n",
       "3                    0.19534  \n",
       "4                    0.21084  \n",
       "5                    0.21072  "
      ]
     },
     "metadata": {},
     "output_type": "display_data"
    }
   ],
   "source": [
    "print(\"\\n----- Comparision of various algorithms for keywords extraction on SemEval2017 dataset -----\")\n",
    "display(algo_comparision)"
   ]
  },
  {
   "cell_type": "code",
   "execution_count": null,
   "id": "fresh-narrow",
   "metadata": {},
   "outputs": [],
   "source": []
  }
 ],
 "metadata": {
  "kernelspec": {
   "display_name": "Python 3",
   "language": "python",
   "name": "python3"
  },
  "language_info": {
   "codemirror_mode": {
    "name": "ipython",
    "version": 3
   },
   "file_extension": ".py",
   "mimetype": "text/x-python",
   "name": "python",
   "nbconvert_exporter": "python",
   "pygments_lexer": "ipython3",
   "version": "3.9.4"
  }
 },
 "nbformat": 4,
 "nbformat_minor": 5
}
