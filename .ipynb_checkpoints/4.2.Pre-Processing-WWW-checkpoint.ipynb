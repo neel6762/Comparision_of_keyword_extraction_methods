{
 "cells": [
  {
   "cell_type": "code",
   "execution_count": 1,
   "id": "perfect-arthur",
   "metadata": {},
   "outputs": [],
   "source": [
    "import pandas as pd\n",
    "import numpy as np\n",
    "import re\n",
    "\n",
    "from nltk.corpus import stopwords\n",
    "from gensim.parsing.preprocessing import STOPWORDS\n",
    "from nltk.tokenize import word_tokenize\n",
    "from nltk.stem import WordNetLemmatizer\n",
    "\n",
    "\n",
    "import seaborn as sns\n",
    "import matplotlib.pyplot as plt"
   ]
  },
  {
   "cell_type": "code",
   "execution_count": 2,
   "id": "frozen-malta",
   "metadata": {},
   "outputs": [],
   "source": [
    "# Load Dataset and combined them to get insights using 500 documents\n",
    "data = pd.read_pickle('data/WWW.pkl')"
   ]
  },
  {
   "cell_type": "code",
   "execution_count": 3,
   "id": "geographic-saudi",
   "metadata": {},
   "outputs": [
    {
     "data": {
      "text/html": [
       "<div>\n",
       "<style scoped>\n",
       "    .dataframe tbody tr th:only-of-type {\n",
       "        vertical-align: middle;\n",
       "    }\n",
       "\n",
       "    .dataframe tbody tr th {\n",
       "        vertical-align: top;\n",
       "    }\n",
       "\n",
       "    .dataframe thead th {\n",
       "        text-align: right;\n",
       "    }\n",
       "</style>\n",
       "<table border=\"1\" class=\"dataframe\">\n",
       "  <thead>\n",
       "    <tr style=\"text-align: right;\">\n",
       "      <th></th>\n",
       "      <th>Doc_no</th>\n",
       "      <th>Abstract</th>\n",
       "      <th>Keywords</th>\n",
       "    </tr>\n",
       "  </thead>\n",
       "  <tbody>\n",
       "    <tr>\n",
       "      <th>0</th>\n",
       "      <td>10984461</td>\n",
       "      <td>Opportunities at the Intersection of Bioinform...</td>\n",
       "      <td>Computational Biology,Cooperative Behavior,Dec...</td>\n",
       "    </tr>\n",
       "    <tr>\n",
       "      <th>1</th>\n",
       "      <td>10984462</td>\n",
       "      <td>The Interactions Between Clinical Informatics ...</td>\n",
       "      <td>Academic Medical Centers,California,Computatio...</td>\n",
       "    </tr>\n",
       "    <tr>\n",
       "      <th>2</th>\n",
       "      <td>10984463</td>\n",
       "      <td>Electronic Health Record Meets Digital Library...</td>\n",
       "      <td>Internet,Libraries,Medical Records Systems, Co...</td>\n",
       "    </tr>\n",
       "    <tr>\n",
       "      <th>3</th>\n",
       "      <td>10984464</td>\n",
       "      <td>Improving Clinical Communication --A View from...</td>\n",
       "      <td>Attitude of Health Personnel,Cognitive Science...</td>\n",
       "    </tr>\n",
       "    <tr>\n",
       "      <th>4</th>\n",
       "      <td>10984465</td>\n",
       "      <td>Comparative Evaluation of Three Continuous Spe...</td>\n",
       "      <td>Comparative Study,Evaluation Studies,Humans,Me...</td>\n",
       "    </tr>\n",
       "    <tr>\n",
       "      <th>...</th>\n",
       "      <td>...</td>\n",
       "      <td>...</td>\n",
       "      <td>...</td>\n",
       "    </tr>\n",
       "    <tr>\n",
       "      <th>490</th>\n",
       "      <td>12915583</td>\n",
       "      <td>Protective Efficacy of an AIDS Vaccine, a Sing...</td>\n",
       "      <td>AIDS Vaccines,Acquired Immunodeficiency Syndro...</td>\n",
       "    </tr>\n",
       "    <tr>\n",
       "      <th>491</th>\n",
       "      <td>12915584</td>\n",
       "      <td>High Circulating Frequencies of Tumor Necrosis...</td>\n",
       "      <td>CD4 Lymphocyte Count,CD4-Positive T-Lymphocyte...</td>\n",
       "    </tr>\n",
       "    <tr>\n",
       "      <th>492</th>\n",
       "      <td>12915585</td>\n",
       "      <td>Early- and Intermediate-Stage Variants of Simi...</td>\n",
       "      <td>Animals,Cell Line,Gene Products, gag,HIV-1,Hum...</td>\n",
       "    </tr>\n",
       "    <tr>\n",
       "      <th>493</th>\n",
       "      <td>12915586</td>\n",
       "      <td>Susceptibility of Human Hepatitis Delta Virus ...</td>\n",
       "      <td>Animals,Base Sequence,Cell Line,Genome, Viral,...</td>\n",
       "    </tr>\n",
       "    <tr>\n",
       "      <th>494</th>\n",
       "      <td>14630605</td>\n",
       "      <td>Prognostic Effect of Prior Disability Episodes...</td>\n",
       "      <td>Activities of Daily Living,Aged,Cohort Studies...</td>\n",
       "    </tr>\n",
       "  </tbody>\n",
       "</table>\n",
       "<p>495 rows × 3 columns</p>\n",
       "</div>"
      ],
      "text/plain": [
       "       Doc_no                                           Abstract  \\\n",
       "0    10984461  Opportunities at the Intersection of Bioinform...   \n",
       "1    10984462  The Interactions Between Clinical Informatics ...   \n",
       "2    10984463  Electronic Health Record Meets Digital Library...   \n",
       "3    10984464  Improving Clinical Communication --A View from...   \n",
       "4    10984465  Comparative Evaluation of Three Continuous Spe...   \n",
       "..        ...                                                ...   \n",
       "490  12915583  Protective Efficacy of an AIDS Vaccine, a Sing...   \n",
       "491  12915584  High Circulating Frequencies of Tumor Necrosis...   \n",
       "492  12915585  Early- and Intermediate-Stage Variants of Simi...   \n",
       "493  12915586  Susceptibility of Human Hepatitis Delta Virus ...   \n",
       "494  14630605  Prognostic Effect of Prior Disability Episodes...   \n",
       "\n",
       "                                              Keywords  \n",
       "0    Computational Biology,Cooperative Behavior,Dec...  \n",
       "1    Academic Medical Centers,California,Computatio...  \n",
       "2    Internet,Libraries,Medical Records Systems, Co...  \n",
       "3    Attitude of Health Personnel,Cognitive Science...  \n",
       "4    Comparative Study,Evaluation Studies,Humans,Me...  \n",
       "..                                                 ...  \n",
       "490  AIDS Vaccines,Acquired Immunodeficiency Syndro...  \n",
       "491  CD4 Lymphocyte Count,CD4-Positive T-Lymphocyte...  \n",
       "492  Animals,Cell Line,Gene Products, gag,HIV-1,Hum...  \n",
       "493  Animals,Base Sequence,Cell Line,Genome, Viral,...  \n",
       "494  Activities of Daily Living,Aged,Cohort Studies...  \n",
       "\n",
       "[495 rows x 3 columns]"
      ]
     },
     "execution_count": 3,
     "metadata": {},
     "output_type": "execute_result"
    }
   ],
   "source": [
    "abs_sample = data['Abstract'][0]\n",
    "data"
   ]
  },
  {
   "cell_type": "markdown",
   "id": "plain-sheet",
   "metadata": {},
   "source": [
    "### Checking for duplicates in the "
   ]
  },
  {
   "cell_type": "code",
   "execution_count": 4,
   "id": "aware-stevens",
   "metadata": {},
   "outputs": [
    {
     "name": "stdout",
     "output_type": "stream",
     "text": [
      "Shape of the Dataset before removing duplicates : (495, 3)\n",
      "Duplicates found in the: (0, 3)\n"
     ]
    }
   ],
   "source": [
    "print(f'Shape of the Dataset before removing duplicates : {data.shape}')\n",
    "duplicate = data[data.duplicated('Doc_no')]\n",
    "print(f'Duplicates found in the: {duplicate.shape}')"
   ]
  },
  {
   "cell_type": "markdown",
   "id": "sustained-vintage",
   "metadata": {},
   "source": [
    "### Average length of the Abstracts before Pre-Processing"
   ]
  },
  {
   "cell_type": "code",
   "execution_count": 5,
   "id": "vietnamese-treaty",
   "metadata": {},
   "outputs": [],
   "source": [
    "total_abstracts = []\n",
    "for abstract in data['Abstract']:\n",
    "    total_abstracts.append(len(abstract.split()))"
   ]
  },
  {
   "cell_type": "code",
   "execution_count": 6,
   "id": "driving-ordering",
   "metadata": {},
   "outputs": [
    {
     "name": "stdout",
     "output_type": "stream",
     "text": [
      "Average length of abstracts : 4748.078787878788\n"
     ]
    }
   ],
   "source": [
    "avg_before_proc = (sum(total_abstracts)/len(total_abstracts))\n",
    "print(f\"Average length of abstracts : {avg_before_proc}\")"
   ]
  },
  {
   "cell_type": "markdown",
   "id": "naked-judge",
   "metadata": {},
   "source": [
    "### Text Pre-Processing"
   ]
  },
  {
   "cell_type": "code",
   "execution_count": 7,
   "id": "floppy-ridge",
   "metadata": {},
   "outputs": [],
   "source": [
    "# Pre processing the Title text\n",
    "def cleanHtml(sentence):\n",
    "    cleanr = re.compile('<.*?>')\n",
    "    cleantext = re.sub(cleanr, ' ', str(sentence))\n",
    "    return cleantext\n",
    "\n",
    "def cleanPunc(sentence): #function to clean the word of any punctuation or special characters\n",
    "    cleaned = re.sub(r'[?|!|\\'|\"|#]',r'',sentence)\n",
    "    cleaned = re.sub(r'[.|,|)|(|\\|/]',r' ',cleaned)\n",
    "    cleaned = cleaned.strip()\n",
    "    cleaned = cleaned.replace(\"\\n\",\" \")\n",
    "    return cleaned\n",
    "\n",
    "def keepAlpha(sentence):\n",
    "    alpha_sent = \"\"\n",
    "    for word in sentence.split():\n",
    "        alpha_word = re.sub('[^a-z A-Z]+', ' ', word)\n",
    "        alpha_sent += alpha_word\n",
    "        alpha_sent += \" \"\n",
    "    alpha_sent = alpha_sent.strip()\n",
    "    return alpha_sent\n",
    "\n",
    "def removeStopWords(sentence):\n",
    "    stop_words = stopwords.words('english')\n",
    "    stop_words = STOPWORDS.union(set(stop_words))\n",
    "    \n",
    "    word_tokens = word_tokenize(sentence)\n",
    "    filtered_sentence = [w for w in word_tokens if not w in stop_words]\n",
    "    filtered_sentence = \" \".join(filtered_sentence)\n",
    "    return filtered_sentence\n",
    "\n",
    "def lemmatize(sentence):\n",
    "    lemmatizer = WordNetLemmatizer()\n",
    "    lem_sentence = \"\"\n",
    "    for word in word_tokenize(sentence):\n",
    "        word = lemmatizer.lemmatize(word)\n",
    "        lem_sentence += word\n",
    "        lem_sentence += \" \"\n",
    "    lem_sentence = lem_sentence.strip()\n",
    "    return lem_sentence\n",
    "    \n",
    "def getStrings(sentence):\n",
    "    sentence = sentence.split(\",\")\n",
    "    sentence = \" \".join(sentence)\n",
    "    return sentence"
   ]
  },
  {
   "cell_type": "code",
   "execution_count": null,
   "id": "miniature-yorkshire",
   "metadata": {},
   "outputs": [],
   "source": [
    "data['Abstract'] = data['Abstract'].str.lower()\n",
    "data['Abstract'] = data['Abstract'].apply(cleanHtml)\n",
    "data['Abstract'] = data['Abstract'].apply(cleanPunc)\n",
    "data['Abstract'] = data['Abstract'].apply(keepAlpha)\n",
    "data['Abstract'] = data['Abstract'].apply(removeStopWords)\n",
    "data['Abstract'] = data['Abstract'].apply(lemmatize)\n",
    "\n",
    "data['Keywords'] = data['Keywords'].str.lower()\n",
    "\n",
    "data.head()"
   ]
  },
  {
   "cell_type": "markdown",
   "id": "intellectual-transmission",
   "metadata": {},
   "source": [
    "### Comparing a row from the abstract column before and after text-processing"
   ]
  },
  {
   "cell_type": "code",
   "execution_count": null,
   "id": "interesting-oxford",
   "metadata": {},
   "outputs": [],
   "source": [
    "print(f'Length before pre-processing : {len(abs_sample.split())}\\n')\n",
    "print(abs_sample)"
   ]
  },
  {
   "cell_type": "code",
   "execution_count": null,
   "id": "certified-riverside",
   "metadata": {},
   "outputs": [],
   "source": [
    "procs_abs_sample = data['Abstract'][0]\n",
    "print(f'Length after pre-processing : {len(procs_abs_sample.split())}\\n')\n",
    "print(procs_abs_sample)"
   ]
  },
  {
   "cell_type": "markdown",
   "id": "proof-norman",
   "metadata": {},
   "source": [
    "### Average length of the abstracts after pre-processing"
   ]
  },
  {
   "cell_type": "code",
   "execution_count": null,
   "id": "blank-april",
   "metadata": {},
   "outputs": [],
   "source": [
    "total_abstracts = []\n",
    "for abstract in data['Abstract']:\n",
    "    total_abstracts.append(len(abstract.split()))"
   ]
  },
  {
   "cell_type": "code",
   "execution_count": null,
   "id": "polar-handle",
   "metadata": {},
   "outputs": [],
   "source": [
    "avg_after_proc = (sum(total_abstracts)/len(total_abstracts))\n",
    "print(f\"Average length of abstracts : {avg_after_proc}\")"
   ]
  },
  {
   "cell_type": "code",
   "execution_count": null,
   "id": "capital-rugby",
   "metadata": {},
   "outputs": [],
   "source": [
    "fig = plt.figure()\n",
    "ax = fig.add_axes([0,0,1,1])\n",
    "desc = ['Avg before Pre-Processing', 'Avg after Pre-Processing']\n",
    "average_score = [avg_before_proc, avg_after_proc]\n",
    "ax.bar(desc,average_score)\n",
    "plt.title('COMPARING THE AVERAGE LENGTH OF THE ABSTRACTS BEFORE AND AFTER DATA PRE-PROCESSING')\n",
    "plt.show()"
   ]
  },
  {
   "cell_type": "code",
   "execution_count": null,
   "id": "corrected-variation",
   "metadata": {},
   "outputs": [],
   "source": [
    "data.head()"
   ]
  },
  {
   "cell_type": "code",
   "execution_count": null,
   "id": "thousand-attachment",
   "metadata": {},
   "outputs": [],
   "source": [
    "pd.to_pickle(data, 'Data/Processed_WWW.pkl')"
   ]
  }
 ],
 "metadata": {
  "kernelspec": {
   "display_name": "Python 3",
   "language": "python",
   "name": "python3"
  },
  "language_info": {
   "codemirror_mode": {
    "name": "ipython",
    "version": 3
   },
   "file_extension": ".py",
   "mimetype": "text/x-python",
   "name": "python",
   "nbconvert_exporter": "python",
   "pygments_lexer": "ipython3",
   "version": "3.9.4"
  }
 },
 "nbformat": 4,
 "nbformat_minor": 5
}
