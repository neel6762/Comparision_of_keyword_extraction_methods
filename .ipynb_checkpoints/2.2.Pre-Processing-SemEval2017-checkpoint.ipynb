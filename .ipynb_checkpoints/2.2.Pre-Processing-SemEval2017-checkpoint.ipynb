{
 "cells": [
  {
   "cell_type": "code",
   "execution_count": 1,
   "id": "perfect-arthur",
   "metadata": {},
   "outputs": [],
   "source": [
    "import pandas as pd\n",
    "import numpy as np\n",
    "import re\n",
    "\n",
    "from nltk.corpus import stopwords\n",
    "from gensim.parsing.preprocessing import STOPWORDS\n",
    "from nltk.tokenize import word_tokenize\n",
    "from nltk.stem import WordNetLemmatizer\n",
    "\n",
    "\n",
    "import seaborn as sns\n",
    "import matplotlib.pyplot as plt"
   ]
  },
  {
   "cell_type": "code",
   "execution_count": 2,
   "id": "frozen-malta",
   "metadata": {},
   "outputs": [],
   "source": [
    "# Load Dataset and combined them to get insights using 500 documents\n",
    "data = pd.read_pickle('data/SemEval_data.pkl')"
   ]
  },
  {
   "cell_type": "code",
   "execution_count": 3,
   "id": "geographic-saudi",
   "metadata": {},
   "outputs": [
    {
     "data": {
      "text/html": [
       "<div>\n",
       "<style scoped>\n",
       "    .dataframe tbody tr th:only-of-type {\n",
       "        vertical-align: middle;\n",
       "    }\n",
       "\n",
       "    .dataframe tbody tr th {\n",
       "        vertical-align: top;\n",
       "    }\n",
       "\n",
       "    .dataframe thead th {\n",
       "        text-align: right;\n",
       "    }\n",
       "</style>\n",
       "<table border=\"1\" class=\"dataframe\">\n",
       "  <thead>\n",
       "    <tr style=\"text-align: right;\">\n",
       "      <th></th>\n",
       "      <th>Doc_no</th>\n",
       "      <th>Abstract</th>\n",
       "      <th>Keywords</th>\n",
       "    </tr>\n",
       "  </thead>\n",
       "  <tbody>\n",
       "    <tr>\n",
       "      <th>0</th>\n",
       "      <td>100</td>\n",
       "      <td>Poor oxidation behavior is the major barrier t...</td>\n",
       "      <td>alloys,alloys with substantially improved oxid...</td>\n",
       "    </tr>\n",
       "    <tr>\n",
       "      <th>1</th>\n",
       "      <td>101</td>\n",
       "      <td>A key part of this problem is that an inspecto...</td>\n",
       "      <td>block,build a model of the smallest thicknesse...</td>\n",
       "    </tr>\n",
       "    <tr>\n",
       "      <th>2</th>\n",
       "      <td>102</td>\n",
       "      <td>In situ oxidation, experiments were carried ou...</td>\n",
       "      <td>3mm diameter discs,accelerating voltage of 30k...</td>\n",
       "    </tr>\n",
       "    <tr>\n",
       "      <th>3</th>\n",
       "      <td>103</td>\n",
       "      <td>The study outlines a trial of transient respon...</td>\n",
       "      <td>assessment of the corrosion condition,assess t...</td>\n",
       "    </tr>\n",
       "    <tr>\n",
       "      <th>4</th>\n",
       "      <td>104</td>\n",
       "      <td>The results from two types of oxidation test a...</td>\n",
       "      <td>adjusted to accommodate buoyancy effects,alumi...</td>\n",
       "    </tr>\n",
       "    <tr>\n",
       "      <th>...</th>\n",
       "      <td>...</td>\n",
       "      <td>...</td>\n",
       "      <td>...</td>\n",
       "    </tr>\n",
       "    <tr>\n",
       "      <th>488</th>\n",
       "      <td>588</td>\n",
       "      <td>MicroCT has been applied to AM parts in variou...</td>\n",
       "      <td>AM parts,average porosity,build direction,char...</td>\n",
       "    </tr>\n",
       "    <tr>\n",
       "      <th>489</th>\n",
       "      <td>589</td>\n",
       "      <td>Aeroengine turbine disks often consist of para...</td>\n",
       "      <td>Aeroengine turbine disks,decrease the mechanic...</td>\n",
       "    </tr>\n",
       "    <tr>\n",
       "      <th>490</th>\n",
       "      <td>590</td>\n",
       "      <td>Although the presented model is developed and ...</td>\n",
       "      <td>a-C:H layers,beryllium co-deposits,carbon,carb...</td>\n",
       "    </tr>\n",
       "    <tr>\n",
       "      <th>491</th>\n",
       "      <td>591</td>\n",
       "      <td>Power and particle exhaust are crucial for the...</td>\n",
       "      <td>D-T reactor,fusion power plant,fusion reactors...</td>\n",
       "    </tr>\n",
       "    <tr>\n",
       "      <th>492</th>\n",
       "      <td>592</td>\n",
       "      <td>The main drawback of thermo-oxidation in most ...</td>\n",
       "      <td>carbon,carbon elements,carbon layers,carbon ma...</td>\n",
       "    </tr>\n",
       "  </tbody>\n",
       "</table>\n",
       "<p>493 rows × 3 columns</p>\n",
       "</div>"
      ],
      "text/plain": [
       "     Doc_no                                           Abstract  \\\n",
       "0       100  Poor oxidation behavior is the major barrier t...   \n",
       "1       101  A key part of this problem is that an inspecto...   \n",
       "2       102  In situ oxidation, experiments were carried ou...   \n",
       "3       103  The study outlines a trial of transient respon...   \n",
       "4       104  The results from two types of oxidation test a...   \n",
       "..      ...                                                ...   \n",
       "488     588  MicroCT has been applied to AM parts in variou...   \n",
       "489     589  Aeroengine turbine disks often consist of para...   \n",
       "490     590  Although the presented model is developed and ...   \n",
       "491     591  Power and particle exhaust are crucial for the...   \n",
       "492     592  The main drawback of thermo-oxidation in most ...   \n",
       "\n",
       "                                              Keywords  \n",
       "0    alloys,alloys with substantially improved oxid...  \n",
       "1    block,build a model of the smallest thicknesse...  \n",
       "2    3mm diameter discs,accelerating voltage of 30k...  \n",
       "3    assessment of the corrosion condition,assess t...  \n",
       "4    adjusted to accommodate buoyancy effects,alumi...  \n",
       "..                                                 ...  \n",
       "488  AM parts,average porosity,build direction,char...  \n",
       "489  Aeroengine turbine disks,decrease the mechanic...  \n",
       "490  a-C:H layers,beryllium co-deposits,carbon,carb...  \n",
       "491  D-T reactor,fusion power plant,fusion reactors...  \n",
       "492  carbon,carbon elements,carbon layers,carbon ma...  \n",
       "\n",
       "[493 rows x 3 columns]"
      ]
     },
     "execution_count": 3,
     "metadata": {},
     "output_type": "execute_result"
    }
   ],
   "source": [
    "abs_sample = data['Abstract'][0]\n",
    "data"
   ]
  },
  {
   "cell_type": "markdown",
   "id": "plain-sheet",
   "metadata": {},
   "source": [
    "### Checking for duplicates in the "
   ]
  },
  {
   "cell_type": "code",
   "execution_count": 4,
   "id": "aware-stevens",
   "metadata": {},
   "outputs": [
    {
     "name": "stdout",
     "output_type": "stream",
     "text": [
      "Shape of the Dataset before removing duplicates : (493, 3)\n",
      "Duplicates found in the: (0, 3)\n"
     ]
    }
   ],
   "source": [
    "print(f'Shape of the Dataset before removing duplicates : {data.shape}')\n",
    "duplicate = data[data.duplicated('Doc_no')]\n",
    "print(f'Duplicates found in the: {duplicate.shape}')"
   ]
  },
  {
   "cell_type": "markdown",
   "id": "sustained-vintage",
   "metadata": {},
   "source": [
    "### Average length of the Abstracts before Pre-Processing"
   ]
  },
  {
   "cell_type": "code",
   "execution_count": 5,
   "id": "vietnamese-treaty",
   "metadata": {},
   "outputs": [],
   "source": [
    "total_abstracts = []\n",
    "for abstract in data['Abstract']:\n",
    "    total_abstracts.append(len(abstract.split()))"
   ]
  },
  {
   "cell_type": "code",
   "execution_count": 6,
   "id": "driving-ordering",
   "metadata": {},
   "outputs": [
    {
     "name": "stdout",
     "output_type": "stream",
     "text": [
      "Average length of abstracts : 168.92292089249491\n"
     ]
    }
   ],
   "source": [
    "avg_before_proc = (sum(total_abstracts)/len(total_abstracts))\n",
    "print(f\"Average length of abstracts : {avg_before_proc}\")"
   ]
  },
  {
   "cell_type": "markdown",
   "id": "naked-judge",
   "metadata": {},
   "source": [
    "### Text Pre-Processing"
   ]
  },
  {
   "cell_type": "code",
   "execution_count": 7,
   "id": "floppy-ridge",
   "metadata": {},
   "outputs": [],
   "source": [
    "# Pre processing the Title text\n",
    "def cleanHtml(sentence):\n",
    "    cleanr = re.compile('<.*?>')\n",
    "    cleantext = re.sub(cleanr, ' ', str(sentence))\n",
    "    return cleantext\n",
    "\n",
    "def cleanPunc(sentence): #function to clean the word of any punctuation or special characters\n",
    "    cleaned = re.sub(r'[?|!|\\'|\"|#]',r'',sentence)\n",
    "    cleaned = re.sub(r'[.|,|)|(|\\|/]',r' ',cleaned)\n",
    "    cleaned = cleaned.strip()\n",
    "    cleaned = cleaned.replace(\"\\n\",\" \")\n",
    "    return cleaned\n",
    "\n",
    "def keepAlpha(sentence):\n",
    "    alpha_sent = \"\"\n",
    "    for word in sentence.split():\n",
    "        alpha_word = re.sub('[^a-z A-Z]+', ' ', word)\n",
    "        alpha_sent += alpha_word\n",
    "        alpha_sent += \" \"\n",
    "    alpha_sent = alpha_sent.strip()\n",
    "    return alpha_sent\n",
    "\n",
    "def removeStopWords(sentence):\n",
    "    stop_words = stopwords.words('english')\n",
    "    stop_words = STOPWORDS.union(set(stop_words))\n",
    "    \n",
    "    word_tokens = word_tokenize(sentence)\n",
    "    filtered_sentence = [w for w in word_tokens if not w in stop_words]\n",
    "    filtered_sentence = \" \".join(filtered_sentence)\n",
    "    return filtered_sentence\n",
    "\n",
    "def lemmatize(sentence):\n",
    "    lemmatizer = WordNetLemmatizer()\n",
    "    lem_sentence = \"\"\n",
    "    for word in word_tokenize(sentence):\n",
    "        word = lemmatizer.lemmatize(word)\n",
    "        lem_sentence += word\n",
    "        lem_sentence += \" \"\n",
    "    lem_sentence = lem_sentence.strip()\n",
    "    return lem_sentence"
   ]
  },
  {
   "cell_type": "code",
   "execution_count": 8,
   "id": "miniature-yorkshire",
   "metadata": {},
   "outputs": [
    {
     "data": {
      "text/html": [
       "<div>\n",
       "<style scoped>\n",
       "    .dataframe tbody tr th:only-of-type {\n",
       "        vertical-align: middle;\n",
       "    }\n",
       "\n",
       "    .dataframe tbody tr th {\n",
       "        vertical-align: top;\n",
       "    }\n",
       "\n",
       "    .dataframe thead th {\n",
       "        text-align: right;\n",
       "    }\n",
       "</style>\n",
       "<table border=\"1\" class=\"dataframe\">\n",
       "  <thead>\n",
       "    <tr style=\"text-align: right;\">\n",
       "      <th></th>\n",
       "      <th>Doc_no</th>\n",
       "      <th>Abstract</th>\n",
       "      <th>Keywords</th>\n",
       "    </tr>\n",
       "  </thead>\n",
       "  <tbody>\n",
       "    <tr>\n",
       "      <th>0</th>\n",
       "      <td>100</td>\n",
       "      <td>poor oxidation behavior major barrier increase...</td>\n",
       "      <td>alloys,alloys with substantially improved oxid...</td>\n",
       "    </tr>\n",
       "    <tr>\n",
       "      <th>1</th>\n",
       "      <td>101</td>\n",
       "      <td>key problem inspector access data small inspec...</td>\n",
       "      <td>block,build a model of the smallest thicknesse...</td>\n",
       "    </tr>\n",
       "    <tr>\n",
       "      <th>2</th>\n",
       "      <td>102</td>\n",
       "      <td>situ oxidation experiment carried mm diameter ...</td>\n",
       "      <td>3mm diameter discs,accelerating voltage of 30k...</td>\n",
       "    </tr>\n",
       "    <tr>\n",
       "      <th>3</th>\n",
       "      <td>103</td>\n",
       "      <td>study outline trial transient response analysi...</td>\n",
       "      <td>assessment of the corrosion condition,assess t...</td>\n",
       "    </tr>\n",
       "    <tr>\n",
       "      <th>4</th>\n",
       "      <td>104</td>\n",
       "      <td>result type oxidation test combined study tabl...</td>\n",
       "      <td>adjusted to accommodate buoyancy effects,alumi...</td>\n",
       "    </tr>\n",
       "  </tbody>\n",
       "</table>\n",
       "</div>"
      ],
      "text/plain": [
       "   Doc_no                                           Abstract  \\\n",
       "0     100  poor oxidation behavior major barrier increase...   \n",
       "1     101  key problem inspector access data small inspec...   \n",
       "2     102  situ oxidation experiment carried mm diameter ...   \n",
       "3     103  study outline trial transient response analysi...   \n",
       "4     104  result type oxidation test combined study tabl...   \n",
       "\n",
       "                                            Keywords  \n",
       "0  alloys,alloys with substantially improved oxid...  \n",
       "1  block,build a model of the smallest thicknesse...  \n",
       "2  3mm diameter discs,accelerating voltage of 30k...  \n",
       "3  assessment of the corrosion condition,assess t...  \n",
       "4  adjusted to accommodate buoyancy effects,alumi...  "
      ]
     },
     "execution_count": 8,
     "metadata": {},
     "output_type": "execute_result"
    }
   ],
   "source": [
    "data['Abstract'] = data['Abstract'].str.lower()\n",
    "data['Abstract'] = data['Abstract'].apply(cleanHtml)\n",
    "data['Abstract'] = data['Abstract'].apply(cleanPunc)\n",
    "data['Abstract'] = data['Abstract'].apply(keepAlpha)\n",
    "data['Abstract'] = data['Abstract'].apply(removeStopWords)\n",
    "data['Abstract'] = data['Abstract'].apply(lemmatize)\n",
    "\n",
    "data['Keywords'] = data['Keywords'].str.lower()\n",
    "\n",
    "data.head()"
   ]
  },
  {
   "cell_type": "markdown",
   "id": "intellectual-transmission",
   "metadata": {},
   "source": [
    "### Comparing a row from the abstract column before and after text-processing"
   ]
  },
  {
   "cell_type": "code",
   "execution_count": 9,
   "id": "interesting-oxford",
   "metadata": {},
   "outputs": [
    {
     "name": "stdout",
     "output_type": "stream",
     "text": [
      "Length before pre-processing : 138\n",
      "\n",
      "Poor oxidation behavior is the major barrier to the increased use of Ti-based alloys in high-temperature structural applications. The demand to increase the service temperature of these alloys beyond 550°C (the typical temperature limit) requires careful study to understand the role that composition has on the oxidation behavior of Ti-based alloys [1–3]. The attempt to overcome this limitation in Ti-based alloys has led to the production of alloys with substantially improved oxidation resistance such as β-21S and also development of coatings and pre-oxidation techniques [1,4–6]. While it is tempting to extrapolate the oxidation behavior (e.g. oxidation rate law, depth of oxygen ingress and scale thickness) observed for a limited number of compositions under a certain oxidation condition to a broader compositional range, there are numerous examples in the literature where deviations from the expected relations are observed [7,8]. \n"
     ]
    }
   ],
   "source": [
    "print(f'Length before pre-processing : {len(abs_sample.split())}\\n')\n",
    "print(abs_sample)"
   ]
  },
  {
   "cell_type": "code",
   "execution_count": 10,
   "id": "certified-riverside",
   "metadata": {},
   "outputs": [
    {
     "name": "stdout",
     "output_type": "stream",
     "text": [
      "Length after pre-processing : 83\n",
      "\n",
      "poor oxidation behavior major barrier increased use ti based alloy high temperature structural application demand increase service temperature alloy c typical temperature limit requires careful study understand role composition oxidation behavior ti based alloy attempt overcome limitation ti based alloy led production alloy substantially improved oxidation resistance development coating pre oxidation technique tempting extrapolate oxidation behavior e g oxidation rate law depth oxygen ingres scale thickness observed limited number composition certain oxidation condition broader compositional range numerous example literature deviation expected relation observed\n"
     ]
    }
   ],
   "source": [
    "procs_abs_sample = data['Abstract'][0]\n",
    "print(f'Length after pre-processing : {len(procs_abs_sample.split())}\\n')\n",
    "print(procs_abs_sample)"
   ]
  },
  {
   "cell_type": "markdown",
   "id": "proof-norman",
   "metadata": {},
   "source": [
    "### Average length of the abstracts after pre-processing"
   ]
  },
  {
   "cell_type": "code",
   "execution_count": 11,
   "id": "blank-april",
   "metadata": {},
   "outputs": [],
   "source": [
    "total_abstracts = []\n",
    "for abstract in data['Abstract']:\n",
    "    total_abstracts.append(len(abstract.split()))"
   ]
  },
  {
   "cell_type": "code",
   "execution_count": 12,
   "id": "polar-handle",
   "metadata": {},
   "outputs": [
    {
     "name": "stdout",
     "output_type": "stream",
     "text": [
      "Average length of abstracts : 94.57200811359026\n"
     ]
    }
   ],
   "source": [
    "avg_after_proc = (sum(total_abstracts)/len(total_abstracts))\n",
    "print(f\"Average length of abstracts : {avg_after_proc}\")"
   ]
  },
  {
   "cell_type": "code",
   "execution_count": 13,
   "id": "capital-rugby",
   "metadata": {},
   "outputs": [
    {
     "data": {
      "image/png": "[encoded data removed]",
      "text/plain": [
       "<Figure size 432x288 with 1 Axes>"
      ]
     },
     "metadata": {
      "needs_background": "light"
     },
     "output_type": "display_data"
    }
   ],
   "source": [
    "fig = plt.figure()\n",
    "ax = fig.add_axes([0,0,1,1])\n",
    "desc = ['Avg before Pre-Processing', 'Avg after Pre-Processing']\n",
    "average_score = [avg_before_proc, avg_after_proc]\n",
    "ax.bar(desc,average_score)\n",
    "plt.title('COMPARING THE AVERAGE LENGTH OF THE ABSTRACTS BEFORE AND AFTER DATA PRE-PROCESSING')\n",
    "plt.show()"
   ]
  },
  {
   "cell_type": "code",
   "execution_count": 14,
   "id": "corrected-variation",
   "metadata": {},
   "outputs": [
    {
     "data": {
      "text/html": [
       "<div>\n",
       "<style scoped>\n",
       "    .dataframe tbody tr th:only-of-type {\n",
       "        vertical-align: middle;\n",
       "    }\n",
       "\n",
       "    .dataframe tbody tr th {\n",
       "        vertical-align: top;\n",
       "    }\n",
       "\n",
       "    .dataframe thead th {\n",
       "        text-align: right;\n",
       "    }\n",
       "</style>\n",
       "<table border=\"1\" class=\"dataframe\">\n",
       "  <thead>\n",
       "    <tr style=\"text-align: right;\">\n",
       "      <th></th>\n",
       "      <th>Doc_no</th>\n",
       "      <th>Abstract</th>\n",
       "      <th>Keywords</th>\n",
       "    </tr>\n",
       "  </thead>\n",
       "  <tbody>\n",
       "    <tr>\n",
       "      <th>0</th>\n",
       "      <td>100</td>\n",
       "      <td>poor oxidation behavior major barrier increase...</td>\n",
       "      <td>alloys,alloys with substantially improved oxid...</td>\n",
       "    </tr>\n",
       "    <tr>\n",
       "      <th>1</th>\n",
       "      <td>101</td>\n",
       "      <td>key problem inspector access data small inspec...</td>\n",
       "      <td>block,build a model of the smallest thicknesse...</td>\n",
       "    </tr>\n",
       "    <tr>\n",
       "      <th>2</th>\n",
       "      <td>102</td>\n",
       "      <td>situ oxidation experiment carried mm diameter ...</td>\n",
       "      <td>3mm diameter discs,accelerating voltage of 30k...</td>\n",
       "    </tr>\n",
       "    <tr>\n",
       "      <th>3</th>\n",
       "      <td>103</td>\n",
       "      <td>study outline trial transient response analysi...</td>\n",
       "      <td>assessment of the corrosion condition,assess t...</td>\n",
       "    </tr>\n",
       "    <tr>\n",
       "      <th>4</th>\n",
       "      <td>104</td>\n",
       "      <td>result type oxidation test combined study tabl...</td>\n",
       "      <td>adjusted to accommodate buoyancy effects,alumi...</td>\n",
       "    </tr>\n",
       "  </tbody>\n",
       "</table>\n",
       "</div>"
      ],
      "text/plain": [
       "   Doc_no                                           Abstract  \\\n",
       "0     100  poor oxidation behavior major barrier increase...   \n",
       "1     101  key problem inspector access data small inspec...   \n",
       "2     102  situ oxidation experiment carried mm diameter ...   \n",
       "3     103  study outline trial transient response analysi...   \n",
       "4     104  result type oxidation test combined study tabl...   \n",
       "\n",
       "                                            Keywords  \n",
       "0  alloys,alloys with substantially improved oxid...  \n",
       "1  block,build a model of the smallest thicknesse...  \n",
       "2  3mm diameter discs,accelerating voltage of 30k...  \n",
       "3  assessment of the corrosion condition,assess t...  \n",
       "4  adjusted to accommodate buoyancy effects,alumi...  "
      ]
     },
     "execution_count": 14,
     "metadata": {},
     "output_type": "execute_result"
    }
   ],
   "source": [
    "data.head()"
   ]
  },
  {
   "cell_type": "code",
   "execution_count": 15,
   "id": "thousand-attachment",
   "metadata": {},
   "outputs": [],
   "source": [
    "pd.to_pickle(data, 'Data/Processed_SemEval.pkl')"
   ]
  }
 ],
 "metadata": {
  "kernelspec": {
   "display_name": "Python 3",
   "language": "python",
   "name": "python3"
  },
  "language_info": {
   "codemirror_mode": {
    "name": "ipython",
    "version": 3
   },
   "file_extension": ".py",
   "mimetype": "text/x-python",
   "name": "python",
   "nbconvert_exporter": "python",
   "pygments_lexer": "ipython3",
   "version": "3.9.4"
  }
 },
 "nbformat": 4,
 "nbformat_minor": 5
}
