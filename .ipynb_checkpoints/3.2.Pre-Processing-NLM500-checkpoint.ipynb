{
 "cells": [
  {
   "cell_type": "code",
   "execution_count": 1,
   "id": "perfect-arthur",
   "metadata": {},
   "outputs": [],
   "source": [
    "import pandas as pd\n",
    "import numpy as np\n",
    "import re\n",
    "\n",
    "from nltk.corpus import stopwords\n",
    "from gensim.parsing.preprocessing import STOPWORDS\n",
    "from nltk.tokenize import word_tokenize\n",
    "from nltk.stem import WordNetLemmatizer\n",
    "\n",
    "\n",
    "import seaborn as sns\n",
    "import matplotlib.pyplot as plt"
   ]
  },
  {
   "cell_type": "code",
   "execution_count": 2,
   "id": "frozen-malta",
   "metadata": {},
   "outputs": [],
   "source": [
    "# Load Dataset and combined them to get insights using 500 documents\n",
    "data = pd.read_pickle('data/NLM500_data.pkl')"
   ]
  },
  {
   "cell_type": "code",
   "execution_count": 3,
   "id": "geographic-saudi",
   "metadata": {},
   "outputs": [
    {
     "data": {
      "text/html": [
       "<div>\n",
       "<style scoped>\n",
       "    .dataframe tbody tr th:only-of-type {\n",
       "        vertical-align: middle;\n",
       "    }\n",
       "\n",
       "    .dataframe tbody tr th {\n",
       "        vertical-align: top;\n",
       "    }\n",
       "\n",
       "    .dataframe thead th {\n",
       "        text-align: right;\n",
       "    }\n",
       "</style>\n",
       "<table border=\"1\" class=\"dataframe\">\n",
       "  <thead>\n",
       "    <tr style=\"text-align: right;\">\n",
       "      <th></th>\n",
       "      <th>Doc_no</th>\n",
       "      <th>Abstract</th>\n",
       "      <th>Keywords</th>\n",
       "    </tr>\n",
       "  </thead>\n",
       "  <tbody>\n",
       "    <tr>\n",
       "      <th>0</th>\n",
       "      <td>10984461</td>\n",
       "      <td>Opportunities at the Intersection of Bioinform...</td>\n",
       "      <td>Computational Biology,Cooperative Behavior,Dec...</td>\n",
       "    </tr>\n",
       "    <tr>\n",
       "      <th>1</th>\n",
       "      <td>10984462</td>\n",
       "      <td>The Interactions Between Clinical Informatics ...</td>\n",
       "      <td>Academic Medical Centers,California,Computatio...</td>\n",
       "    </tr>\n",
       "    <tr>\n",
       "      <th>2</th>\n",
       "      <td>10984463</td>\n",
       "      <td>Electronic Health Record Meets Digital Library...</td>\n",
       "      <td>Internet,Libraries,Medical Records Systems, Co...</td>\n",
       "    </tr>\n",
       "    <tr>\n",
       "      <th>3</th>\n",
       "      <td>10984464</td>\n",
       "      <td>Improving Clinical Communication --A View from...</td>\n",
       "      <td>Attitude of Health Personnel,Cognitive Science...</td>\n",
       "    </tr>\n",
       "    <tr>\n",
       "      <th>4</th>\n",
       "      <td>10984465</td>\n",
       "      <td>Comparative Evaluation of Three Continuous Spe...</td>\n",
       "      <td>Comparative Study,Evaluation Studies,Humans,Me...</td>\n",
       "    </tr>\n",
       "    <tr>\n",
       "      <th>...</th>\n",
       "      <td>...</td>\n",
       "      <td>...</td>\n",
       "      <td>...</td>\n",
       "    </tr>\n",
       "    <tr>\n",
       "      <th>490</th>\n",
       "      <td>12915583</td>\n",
       "      <td>Protective Efficacy of an AIDS Vaccine, a Sing...</td>\n",
       "      <td>AIDS Vaccines,Acquired Immunodeficiency Syndro...</td>\n",
       "    </tr>\n",
       "    <tr>\n",
       "      <th>491</th>\n",
       "      <td>12915584</td>\n",
       "      <td>High Circulating Frequencies of Tumor Necrosis...</td>\n",
       "      <td>CD4 Lymphocyte Count,CD4-Positive T-Lymphocyte...</td>\n",
       "    </tr>\n",
       "    <tr>\n",
       "      <th>492</th>\n",
       "      <td>12915585</td>\n",
       "      <td>Early- and Intermediate-Stage Variants of Simi...</td>\n",
       "      <td>Animals,Cell Line,Gene Products, gag,HIV-1,Hum...</td>\n",
       "    </tr>\n",
       "    <tr>\n",
       "      <th>493</th>\n",
       "      <td>12915586</td>\n",
       "      <td>Susceptibility of Human Hepatitis Delta Virus ...</td>\n",
       "      <td>Animals,Base Sequence,Cell Line,Genome, Viral,...</td>\n",
       "    </tr>\n",
       "    <tr>\n",
       "      <th>494</th>\n",
       "      <td>14630605</td>\n",
       "      <td>Prognostic Effect of Prior Disability Episodes...</td>\n",
       "      <td>Activities of Daily Living,Aged,Cohort Studies...</td>\n",
       "    </tr>\n",
       "  </tbody>\n",
       "</table>\n",
       "<p>495 rows × 3 columns</p>\n",
       "</div>"
      ],
      "text/plain": [
       "       Doc_no                                           Abstract  \\\n",
       "0    10984461  Opportunities at the Intersection of Bioinform...   \n",
       "1    10984462  The Interactions Between Clinical Informatics ...   \n",
       "2    10984463  Electronic Health Record Meets Digital Library...   \n",
       "3    10984464  Improving Clinical Communication --A View from...   \n",
       "4    10984465  Comparative Evaluation of Three Continuous Spe...   \n",
       "..        ...                                                ...   \n",
       "490  12915583  Protective Efficacy of an AIDS Vaccine, a Sing...   \n",
       "491  12915584  High Circulating Frequencies of Tumor Necrosis...   \n",
       "492  12915585  Early- and Intermediate-Stage Variants of Simi...   \n",
       "493  12915586  Susceptibility of Human Hepatitis Delta Virus ...   \n",
       "494  14630605  Prognostic Effect of Prior Disability Episodes...   \n",
       "\n",
       "                                              Keywords  \n",
       "0    Computational Biology,Cooperative Behavior,Dec...  \n",
       "1    Academic Medical Centers,California,Computatio...  \n",
       "2    Internet,Libraries,Medical Records Systems, Co...  \n",
       "3    Attitude of Health Personnel,Cognitive Science...  \n",
       "4    Comparative Study,Evaluation Studies,Humans,Me...  \n",
       "..                                                 ...  \n",
       "490  AIDS Vaccines,Acquired Immunodeficiency Syndro...  \n",
       "491  CD4 Lymphocyte Count,CD4-Positive T-Lymphocyte...  \n",
       "492  Animals,Cell Line,Gene Products, gag,HIV-1,Hum...  \n",
       "493  Animals,Base Sequence,Cell Line,Genome, Viral,...  \n",
       "494  Activities of Daily Living,Aged,Cohort Studies...  \n",
       "\n",
       "[495 rows x 3 columns]"
      ]
     },
     "execution_count": 3,
     "metadata": {},
     "output_type": "execute_result"
    }
   ],
   "source": [
    "abs_sample = data['Abstract'][0]\n",
    "data"
   ]
  },
  {
   "cell_type": "markdown",
   "id": "plain-sheet",
   "metadata": {},
   "source": [
    "### Checking for duplicates in the "
   ]
  },
  {
   "cell_type": "code",
   "execution_count": 4,
   "id": "aware-stevens",
   "metadata": {},
   "outputs": [
    {
     "name": "stdout",
     "output_type": "stream",
     "text": [
      "Shape of the Dataset before removing duplicates : (495, 3)\n",
      "Duplicates found in the: (0, 3)\n"
     ]
    }
   ],
   "source": [
    "print(f'Shape of the Dataset before removing duplicates : {data.shape}')\n",
    "duplicate = data[data.duplicated('Doc_no')]\n",
    "print(f'Duplicates found in the: {duplicate.shape}')"
   ]
  },
  {
   "cell_type": "markdown",
   "id": "sustained-vintage",
   "metadata": {},
   "source": [
    "### Average length of the Abstracts before Pre-Processing"
   ]
  },
  {
   "cell_type": "code",
   "execution_count": 5,
   "id": "vietnamese-treaty",
   "metadata": {},
   "outputs": [],
   "source": [
    "total_abstracts = []\n",
    "for abstract in data['Abstract']:\n",
    "    total_abstracts.append(len(abstract.split()))"
   ]
  },
  {
   "cell_type": "code",
   "execution_count": 6,
   "id": "driving-ordering",
   "metadata": {},
   "outputs": [
    {
     "name": "stdout",
     "output_type": "stream",
     "text": [
      "Average length of abstracts : 4748.078787878788\n"
     ]
    }
   ],
   "source": [
    "avg_before_proc = (sum(total_abstracts)/len(total_abstracts))\n",
    "print(f\"Average length of abstracts : {avg_before_proc}\")"
   ]
  },
  {
   "cell_type": "markdown",
   "id": "naked-judge",
   "metadata": {},
   "source": [
    "### Text Pre-Processing"
   ]
  },
  {
   "cell_type": "code",
   "execution_count": 7,
   "id": "floppy-ridge",
   "metadata": {},
   "outputs": [],
   "source": [
    "# Pre processing the Title text\n",
    "def cleanHtml(sentence):\n",
    "    cleanr = re.compile('<.*?>')\n",
    "    cleantext = re.sub(cleanr, ' ', str(sentence))\n",
    "    return cleantext\n",
    "\n",
    "def cleanPunc(sentence): #function to clean the word of any punctuation or special characters\n",
    "    cleaned = re.sub(r'[?|!|\\'|\"|#]',r'',sentence)\n",
    "    cleaned = re.sub(r'[.|,|)|(|\\|/]',r' ',cleaned)\n",
    "    cleaned = cleaned.strip()\n",
    "    cleaned = cleaned.replace(\"\\n\",\" \")\n",
    "    return cleaned\n",
    "\n",
    "def keepAlpha(sentence):\n",
    "    alpha_sent = \"\"\n",
    "    for word in sentence.split():\n",
    "        alpha_word = re.sub('[^a-z A-Z]+', ' ', word)\n",
    "        alpha_sent += alpha_word\n",
    "        alpha_sent += \" \"\n",
    "    alpha_sent = alpha_sent.strip()\n",
    "    return alpha_sent\n",
    "\n",
    "def removeStopWords(sentence):\n",
    "    stop_words = stopwords.words('english')\n",
    "    stop_words = STOPWORDS.union(set(stop_words))\n",
    "    \n",
    "    word_tokens = word_tokenize(sentence)\n",
    "    filtered_sentence = [w for w in word_tokens if not w in stop_words]\n",
    "    filtered_sentence = \" \".join(filtered_sentence)\n",
    "    return filtered_sentence\n",
    "\n",
    "def lemmatize(sentence):\n",
    "    lemmatizer = WordNetLemmatizer()\n",
    "    lem_sentence = \"\"\n",
    "    for word in word_tokenize(sentence):\n",
    "        word = lemmatizer.lemmatize(word)\n",
    "        lem_sentence += word\n",
    "        lem_sentence += \" \"\n",
    "    lem_sentence = lem_sentence.strip()\n",
    "    return lem_sentence\n",
    "    \n",
    "def getStrings(sentence):\n",
    "    sentence = sentence.split(\",\")\n",
    "    sentence = \" \".join(sentence)\n",
    "    return sentence"
   ]
  },
  {
   "cell_type": "code",
   "execution_count": 8,
   "id": "miniature-yorkshire",
   "metadata": {},
   "outputs": [
    {
     "data": {
      "text/html": [
       "<div>\n",
       "<style scoped>\n",
       "    .dataframe tbody tr th:only-of-type {\n",
       "        vertical-align: middle;\n",
       "    }\n",
       "\n",
       "    .dataframe tbody tr th {\n",
       "        vertical-align: top;\n",
       "    }\n",
       "\n",
       "    .dataframe thead th {\n",
       "        text-align: right;\n",
       "    }\n",
       "</style>\n",
       "<table border=\"1\" class=\"dataframe\">\n",
       "  <thead>\n",
       "    <tr style=\"text-align: right;\">\n",
       "      <th></th>\n",
       "      <th>Doc_no</th>\n",
       "      <th>Abstract</th>\n",
       "      <th>Keywords</th>\n",
       "    </tr>\n",
       "  </thead>\n",
       "  <tbody>\n",
       "    <tr>\n",
       "      <th>0</th>\n",
       "      <td>10984461</td>\n",
       "      <td>opportunity intersection bioinformatics health...</td>\n",
       "      <td>computational biology,cooperative behavior,dec...</td>\n",
       "    </tr>\n",
       "    <tr>\n",
       "      <th>1</th>\n",
       "      <td>10984462</td>\n",
       "      <td>interaction clinical informatics bioinformatic...</td>\n",
       "      <td>academic medical centers,california,computatio...</td>\n",
       "    </tr>\n",
       "    <tr>\n",
       "      <th>2</th>\n",
       "      <td>10984463</td>\n",
       "      <td>electronic health record meet digital library ...</td>\n",
       "      <td>internet,libraries,medical records systems, co...</td>\n",
       "    </tr>\n",
       "    <tr>\n",
       "      <th>3</th>\n",
       "      <td>10984464</td>\n",
       "      <td>improving clinical communication view psycholo...</td>\n",
       "      <td>attitude of health personnel,cognitive science...</td>\n",
       "    </tr>\n",
       "    <tr>\n",
       "      <th>4</th>\n",
       "      <td>10984465</td>\n",
       "      <td>comparative evaluation continuous speech recog...</td>\n",
       "      <td>comparative study,evaluation studies,humans,me...</td>\n",
       "    </tr>\n",
       "  </tbody>\n",
       "</table>\n",
       "</div>"
      ],
      "text/plain": [
       "     Doc_no                                           Abstract  \\\n",
       "0  10984461  opportunity intersection bioinformatics health...   \n",
       "1  10984462  interaction clinical informatics bioinformatic...   \n",
       "2  10984463  electronic health record meet digital library ...   \n",
       "3  10984464  improving clinical communication view psycholo...   \n",
       "4  10984465  comparative evaluation continuous speech recog...   \n",
       "\n",
       "                                            Keywords  \n",
       "0  computational biology,cooperative behavior,dec...  \n",
       "1  academic medical centers,california,computatio...  \n",
       "2  internet,libraries,medical records systems, co...  \n",
       "3  attitude of health personnel,cognitive science...  \n",
       "4  comparative study,evaluation studies,humans,me...  "
      ]
     },
     "execution_count": 8,
     "metadata": {},
     "output_type": "execute_result"
    }
   ],
   "source": [
    "data['Abstract'] = data['Abstract'].str.lower()\n",
    "data['Abstract'] = data['Abstract'].apply(cleanHtml)\n",
    "data['Abstract'] = data['Abstract'].apply(cleanPunc)\n",
    "data['Abstract'] = data['Abstract'].apply(keepAlpha)\n",
    "data['Abstract'] = data['Abstract'].apply(removeStopWords)\n",
    "data['Abstract'] = data['Abstract'].apply(lemmatize)\n",
    "\n",
    "data['Keywords'] = data['Keywords'].str.lower()\n",
    "\n",
    "data.head()"
   ]
  },
  {
   "cell_type": "markdown",
   "id": "intellectual-transmission",
   "metadata": {},
   "source": [
    "### Comparing a row from the abstract column before and after text-processing"
   ]
  },
  {
   "cell_type": "code",
   "execution_count": 9,
   "id": "interesting-oxford",
   "metadata": {},
   "outputs": [
    {
     "name": "stdout",
     "output_type": "stream",
     "text": [
      "Length before pre-processing : 2521\n",
      "\n",
      "Opportunities at the Intersection of Bioinformatics and Health Informatics --A Case Study Abstract This paper provides a \"viewpoint discussion\" based on a presentation made to the 2000 Symposium of the American College of Medical Informatics. It discusses potential opportunities for researchers in health informatics to become involved in the rapidly growing field of bioinformatics, using the activities of the Yale Center for Medical Informatics as a case study. One set of opportunities occurs where bioinformatics research itself intersects with the clinical world. Examples include the correlations between individual genetic variation with clinical risk factors, disease presentation, and differential response to treatment; and the implications of including genetic test results in the patient record, which raises clinical decision support issues as well as legal and ethical issues. A second set of opportunities occurs where bioinformatics research can benefit from the technologic expertise and approaches that informaticians have used extensively in the clinical arena. Examples include database organization and knowledge representation, data mining, and modeling and simulation. Microarray technology is discussed as a specific potential area for collaboration. Related questions concern how best to establish collaborations with bioscientists so that the interests and needs of both sets of researchers can be met in a synergistic fashion, and the most appropriate home for bioinformatics in an academic medical center.  This paper provides a \"viewpoint discussion\" based on a presentation made to the American College of Medical Informatics (ACMI) Symposium, which was held in February 2000 at San Marco Island, Florida. The activities of one day of that three-day symposium centered on the intersection of bioinformatics and health informatics. The implicit theme was to help identify opportunities for researchers in health informatics to become involved in the rapidly growing field of bioinformatics. In general, there are two types of such opportunities. One set of opportunities occurs where bioinformatics research itself intersects with the clinical world. The second set of opportunities occurs where bioinformatics research can benefit from the technologic expertise, techniques, and approaches that health informaticians have used extensively in the clinical arena. Several related questions were also addressed. One question concerned how best to establish collaborations with bioscientists so that the interests and needs of both sets of researchers can be met in a synergistic fashion. A second question concerned the appropriate home for bioinformatics in an academic medical center. Since these questions are very broad and complex, they can be difficult to discuss in abstract terms. this paper uses the experience of the Yale Center for Medical Informatics (YCMI) as a case study to structure a discussion of these issues. The term \"bioinformatics\" has been used with different scopes and meanings by different groups of researchers. The term could refer to a range of activities:  In this paper, \"bioinformatics\" is loosely defined to include the first two areas discussed above ---informatics involving the biosciences, including genomics. outlines the spectrum of biomedical informatics activities at the YCMI. The three areas of research are increasingly likely to intersect in the near future.  Genomic Informatics | Over the past decade, the YCMI has been involved in a number of projects in support of genomics and genetics. An early project explored the use of parallel computation in biological sequence analysis and genetic linkage analysis, in collaboration with faculty in the Department of Computer Science. Another project provided Internet-based informatics support for the collaborative Genome Center, involving the Albert Einstein College of Medicine and Yale, to map human chromosome 12. Current YCMI activities in genomic informatics focus on three areas. One long-standing collaboration, with the laboratory of Prof. Kenneth Kidd (Genetics), centers on human genome diversity. A second major collaboration is with Prof. Michael Snyder, director of Yale's Yeast Genome Analysis Center. A recent and rapidly growing set of collaborations involve the support of microarray technology, as discussed further below. All these collaborations have involved the development of databases and informatics tools for internal use at Yale and also for providing public access to the data via the Web. With regard to integrating genomic informatics with clinical practice, now that many genes and gene fragments have been identified, there are tremendous opportunities to work up from the genetic blueprint to explore gene expression, functional genomics, and structural genomics on a massive scale, including their implications for human disease.  Clinical Informatics | Clinical informatics and genomic informatics are at far ends of the spectrum shown in . Here the field of medical and health informatics has long been confronting the development of informatics techniques that deal with the fuzziness of clinical data and disease. At the YCMI, we have been working on many different projects:  Thus, we anticipate increasing interplay between the genomic and clinical levels, which will have a major impact on our informatics activities.  Neuroinformatics | In , neuroinformatics sits between genomic informatics and clinical informatics and is really a place-holder for informatics activities involving many different tissues and organ systems. Once the genetic blueprint is known, the next step is to determine what it means in a range of different tissues and organ systems, including the kidney, the liver, the gastrointestinal tract, the heart, and the endocrine system, among others. Neuroinformatics focuses on the central nervous system, which is clearly the most complex organ system. The goal of the field of neuroinformatics is to provide enabling informatics technology that supports neuroscience research at many different levels, . These include the genetic level, the cellular level, the physiologic and pharmacologic levels, and, eventually, the level of behavioral research. The research includes experimental microanatomic studies (e.g., imaging cells) and macroanatomic studies (e.g., imaging brains). Each type of experiment uses different experimental techniques and generates different types of experimental data. Historically, different laboratories have tended to focus on one or two of these levels.  At each of these levels, large amounts of experimental data are being generated in a form that can be stored and analyzed online. To fully understand a neuroscience phenomenon, however, it is ultimately important to gather data at many different levels and analyze all those data in an integrated fashion. In summary, neuroinformatics in a sense \"connects\" genomic informatics and clinical informatics in the areas of neuroscience research. As such, it is representative of many other bioscience disciplines that are addressing similar issues in other tissues and organ systems. The three levels shown in  represent a spectrum of informatics activities that will become increasingly integrated in many different ways.  Table 1 | The Spectrum of Biomedical Informatics at the Yale Center for Medical Informatics Table 2 | Examples of Experimental Neuroscience Data at Different Levels of Brain Function Selected Areas of Intersection : Health informaticians have many potential opportunities to become involved in collaborations involving bioinformatics. One set of opportunities occurs where bioinformatics research intersects the clinical world:  A second set of opportunities occurs where bioinformatics research can benefit from techniques and approaches that informaticians have used extensively in the clinical arena: A Case Study : The microarray, a recently developed technology, offers a wide range of informatics opportunities.,,, Yale is currently installing two microarray analyzers, one in the School of Medicine and one on Yale's main campus. These use a technology whereby \"DNA chips\" measure whether and to what degree different genes are expressed in experimental tissue samples. Each DNA chip can analyze the presence or absence and the approximate level of expression of tens of thousands of genes. For example, one group of Yale researchers will use this technology to study hematologic disease involving white blood cells (WBCs). They will take WBCs at different stages of cell differentiation and in a single experiment see which of roughly 10,000 genes are expressed in two samples that have been combined (e.g., a normal sample and a cancerous sample at the same stage of differentiation). The test for each gene (really a small DNA fragment that is part of a gene) is seen on the microarray as a single spot in a massive array of spots. The two samples (from normal and abnormal WBCs) will be tagged with fluorescent markers of different colors (red and green), so that each gene can be tested in both samples in a single microarray experiment. Each experiment will generate 10,000 data points. Each point will have several associated values, reflecting the actual intensity and relative intensity of both fluorescent markers at each of the 10,000 spots. The researchers estimate they will ultimately perform up to five such experiments a day. In addition, other laboratories will be using the same machine to generate similar numbers of data for many different experiments. It takes roughly 10 minutes to perform each microarray analysis. Slides can be loaded to allow the machine to perform analyses automatically 24 hours a day. As a result, we see microarray experiments as an exciting opportunity to expand our activities in genomic informatics:  As a result, a broad, stable infrastructure of informatics staff and faculty will be required to support the high volume of microarray experiments that will soon be performed. Informatics Support vs. Informatics Research : If health informaticians are to become centrally involved in bioinformatics, they need to establish robust collaborations with bioscientists. In the forging of such collaborations, it is important to understand that informaticians can play two general types of informatics roles ---specifically, providing informatics support for bioscience research and performing informatics research that uses the bioscience domain as a context for addressing basic informatics research issues. In this regard, it is important to point out that bioscientists typically have motivations that are very different from those of the clinician collaborators with whom many health informaticians have worked in the past. Clinician collaborators are, typically, primarily involved in clinical practice and are looking for additional interesting research projects in which they can become involved. For such collaborators, embarking on a clinical informatics research project allows them to provide their clinical expertise and participate in sophisticated research that relates to their field. If this research results in additional visibility and publications, they have reason to be happy. Bioscientist collaborators may have a very different motivation. They are already doing research. They are looking to informaticians to provide tools to help them perform their research more effectively. They are, typically, not looking for additional areas for research peripheral to their field, nor do they want to devote their time to such projects. They have more than enough research in their own field to keep them busy, and their time is precious. As a result, they will not be satisfied with the clinical informatics model of serving as domain experts in informatics research projects, even if the projects are in their field. They want help solving their immediate research problems. As a result, bioscientists typically want informaticians to provide them with informatics support. Conversely, academic informaticians want at some level to be performing informatics research, although they are certainly willing to provide informatics support if this leads to interesting research opportunities. The YCMI's neuroinformatics experience in the national Human Brain Project (HBP) provides, as a case study, a chance to discuss these issues more concretely. The YCMI's HBP work involves the integration of multidisciplinary sensory data, using the olfactory system as a model system. This HBP work involves both neuroinformatics support and neuroinformatics research. Neuroinformatics Support | Our neuroinformatics support activities involve building a variety of databases and tools. In general, we have attempted to build databases that can serve the needs of our collaborating laboratories and also serve as pilot resources for the field as a whole. These databases include ORDB, containing information about olfactory receptors; OdorDB, containing information about odor molecules; NeuronDB, containing information about neuronal cell properties; and ModelDB, containing neuronal models that can be searched, examined, downloaded via the Web, and run locally. The development of these databases involved a great deal of practical work with our collaborators to finetune their design, functionality, and interface so that they can be readily useful to, and usable by, neuroscientists. It is important to emphasize, however, that \"just\" performing good neuroinformatics support requires that informatics faculty work closely with the neuroscientists to understand the biological problems, to appreciate the needs of the neuroscience researchers, and to develop well-structured solutions to enable neuroscience research.  Neuroinformatics Research | In developing these tools, we have been able to define interesting neuroinformatics research projects. As discussed in more detail below, however, this did not happen immediately. Our current neuroinformatics research includes:   The Problem and the Solution | In a neuroscience collaboration, one would like to strike a balance between neuroinformatics support and neuroinformatics research, so that both can be pursued in a synergistic fashion. The problem that we encountered in our HBP work was essentially that of \"the chicken and the egg.\" At the start of our HBP activities, in particular, there was no critical mass of neuroinformatics support activities to provide a context for neuroinformatics research. In addition, our neuroinformatics support activities were applied and pragmatic, reflecting the real-world needs of our neuroscience collaborators. It was therefore difficult (inretrospect, impossible) to perform neuroinformatics research that was directly tied to our collaborators' immediate research needs. The problem was that we had not achieved a robust level (a critical mass) of neuroinformatics support activities to provide a context for neuroinformatics research. Once we had achieved a sufficiently robust level of neuroinformatics support (which took about five years), we could then embark on neuroinformatics research that was built on our support and therefore directly tied to our collaborators' research needs. This, in turn, meant that the results of our neuroinformatics research could be folded back to enhance our neuroinformatics support, in a fully synergistic fashion. For example, as described above, we were able to integrate the operational versions of all four of our HBP databases into our EAV/CR data model. We believe that this provides a strong pilot proof of concept for the EAV/CR model and also provides a robust, flexible database environment for the further development of these and future HBP databases at Yale. An important question concerns the most appropriate home for bioinformatics in an academic medical center. One possible academic home is in a bioscience department. To the extent that a particular computational technique is unique to a department, then that department may well be a logical home for researchers who focus on that technique. This would be particularly true if such faculty members need to be fully trained in that department's discipline. To the extent that bioinformatics faculty members require broad training in informatics issues and have skills that are applicable across many bioscience fields, however, there is logic to basing those faculty members in a broader academic unit containing colleagues who share this informatics background. Two general types of such a unit are:  A unit of the later type would promote ---among all faculty, staff, and students ---work at the intersection of clinical and bioscience informatics as well as a broader appreciation of biomedical informatics as a whole. As the current trends in bioinformatics continue, the latter model is likely to become an increasingly logical solution. It is clear, however, that many historical, political, and practical considerations will influence how any individual academic medical center approaches this issue. \n"
     ]
    }
   ],
   "source": [
    "print(f'Length before pre-processing : {len(abs_sample.split())}\\n')\n",
    "print(abs_sample)"
   ]
  },
  {
   "cell_type": "code",
   "execution_count": 10,
   "id": "certified-riverside",
   "metadata": {},
   "outputs": [
    {
     "name": "stdout",
     "output_type": "stream",
     "text": [
      "Length after pre-processing : 1353\n",
      "\n",
      "opportunity intersection bioinformatics health informatics case study abstract paper provides viewpoint discussion based presentation symposium american college medical informatics discus potential opportunity researcher health informatics involved rapidly growing field bioinformatics activity yale center medical informatics case study set opportunity occurs bioinformatics research intersects clinical world example include correlation individual genetic variation clinical risk factor disease presentation differential response treatment implication including genetic test result patient record raise clinical decision support issue legal ethical issue second set opportunity occurs bioinformatics research benefit technologic expertise approach informaticians extensively clinical arena example include database organization knowledge representation data mining modeling simulation microarray technology discussed specific potential area collaboration related question concern best establish collaboration bioscientists interest need set researcher met synergistic fashion appropriate home bioinformatics academic medical center paper provides viewpoint discussion based presentation american college medical informatics acmi symposium held february san marco island florida activity day day symposium centered intersection bioinformatics health informatics implicit theme help identify opportunity researcher health informatics involved rapidly growing field bioinformatics general type opportunity set opportunity occurs bioinformatics research intersects clinical world second set opportunity occurs bioinformatics research benefit technologic expertise technique approach health informaticians extensively clinical arena related question addressed question concerned best establish collaboration bioscientists interest need set researcher met synergistic fashion second question concerned appropriate home bioinformatics academic medical center question broad complex difficult discus abstract term paper us experience yale center medical informatics ycmi case study structure discussion issue term bioinformatics different scope meaning different group researcher term refer range activity paper bioinformatics loosely defined include area discussed informatics involving bioscience including genomics outline spectrum biomedical informatics activity ycmi area research increasingly likely intersect near future genomic informatics past decade ycmi involved number project support genomics genetics early project explored use parallel computation biological sequence analysis genetic linkage analysis collaboration faculty department science project provided internet based informatics support collaborative genome center involving albert einstein college medicine yale map human chromosome current ycmi activity genomic informatics focus area long standing collaboration laboratory prof kenneth kidd genetics center human genome diversity second major collaboration prof michael snyder director yale yeast genome analysis center recent rapidly growing set collaboration involve support microarray technology discussed collaboration involved development database informatics tool internal use yale providing public access data web regard integrating genomic informatics clinical practice gene gene fragment identified tremendous opportunity work genetic blueprint explore gene expression functional genomics structural genomics massive scale including implication human disease clinical informatics clinical informatics genomic informatics far end spectrum shown field medical health informatics long confronting development informatics technique deal fuzziness clinical data disease ycmi working different project anticipate increasing interplay genomic clinical level major impact informatics activity neuroinformatics neuroinformatics sits genomic informatics clinical informatics place holder informatics activity involving different tissue organ system genetic blueprint known step determine mean range different tissue organ system including kidney liver gastrointestinal tract heart endocrine neuroinformatics focus central nervous clearly complex organ goal field neuroinformatics provide enabling informatics technology support neuroscience research different level include genetic level cellular level physiologic pharmacologic level eventually level behavioral research research includes experimental microanatomic study e g imaging cell macroanatomic study e g imaging brain type experiment us different experimental technique generates different type experimental data historically different laboratory tended focus level level large amount experimental data generated form stored analyzed online fully understand neuroscience phenomenon ultimately important gather data different level analyze data integrated fashion summary neuroinformatics sense connects genomic informatics clinical informatics area neuroscience research representative bioscience discipline addressing similar issue tissue organ system level shown represent spectrum informatics activity increasingly integrated different way table spectrum biomedical informatics yale center medical informatics table example experimental neuroscience data different level brain function selected area intersection health informaticians potential opportunity involved collaboration involving bioinformatics set opportunity occurs bioinformatics research intersects clinical world second set opportunity occurs bioinformatics research benefit technique approach informaticians extensively clinical arena case study microarray recently developed technology offer wide range informatics opportunity yale currently installing microarray analyzer school medicine yale main campus use technology dna chip measure degree different gene expressed experimental tissue sample dna chip analyze presence absence approximate level expression ten thousand gene example group yale researcher use technology study hematologic disease involving white blood cell wbc wbc different stage cell differentiation single experiment roughly gene expressed sample combined e g normal sample cancerous sample stage differentiation test gene small dna fragment gene seen microarray single spot massive array spot sample normal abnormal wbc tagged fluorescent marker different color red green gene tested sample single microarray experiment experiment generate data point point associated value reflecting actual intensity relative intensity fluorescent marker spot researcher estimate ultimately perform experiment day addition laboratory machine generate similar number data different experiment take roughly minute perform microarray analysis slide loaded allow machine perform analysis automatically hour day result microarray experiment exciting opportunity expand activity genomic informatics result broad stable infrastructure informatics staff faculty required support high volume microarray experiment soon performed informatics support v informatics research health informaticians centrally involved bioinformatics need establish robust collaboration bioscientists forging collaboration important understand informaticians play general type informatics role specifically providing informatics support bioscience research performing informatics research us bioscience domain context addressing basic informatics research issue regard important point bioscientists typically motivation different clinician collaborator health informaticians worked past clinician collaborator typically primarily involved clinical practice looking additional interesting research project involved collaborator embarking clinical informatics research project allows provide clinical expertise participate sophisticated research relates field research result additional visibility publication reason happy bioscientist collaborator different motivation research looking informaticians provide tool help perform research effectively typically looking additional area research peripheral field want devote time project research field busy time precious result satisfied clinical informatics model serving domain expert informatics research project project field want help solving immediate research problem result bioscientists typically want informaticians provide informatics support conversely academic informaticians want level performing informatics research certainly willing provide informatics support lead interesting research opportunity ycmis neuroinformatics experience national human brain project hbp provides case study chance discus issue concretely ycmis hbp work involves integration multidisciplinary sensory data olfactory model hbp work involves neuroinformatics support neuroinformatics research neuroinformatics support neuroinformatics support activity involve building variety database tool general attempted build database serve need collaborating laboratory serve pilot resource field database include ordb containing information olfactory receptor odordb containing information odor molecule neurondb containing information neuronal cell property modeldb containing neuronal model searched examined downloaded web run locally development database involved great deal practical work collaborator finetune design functionality interface readily useful usable neuroscientist important emphasize performing good neuroinformatics support requires informatics faculty work closely neuroscientist understand biological problem appreciate need neuroscience researcher develop structured solution enable neuroscience research neuroinformatics research developing tool able define interesting neuroinformatics research project discussed happen immediately current neuroinformatics research includes problem solution neuroscience collaboration like strike balance neuroinformatics support neuroinformatics research pursued synergistic fashion problem encountered hbp work essentially chicken egg start hbp activity particular critical mass neuroinformatics support activity provide context neuroinformatics research addition neuroinformatics support activity applied pragmatic reflecting real world need neuroscience collaborator difficult inretrospect impossible perform neuroinformatics research directly tied collaborator immediate research need problem achieved robust level critical mass neuroinformatics support activity provide context neuroinformatics research achieved sufficiently robust level neuroinformatics support took year embark neuroinformatics research built support directly tied collaborator research need turn meant result neuroinformatics research folded enhance neuroinformatics support fully synergistic fashion example described able integrate operational version hbp database eav cr data model believe provides strong pilot proof concept eav cr model provides robust flexible database environment development future hbp database yale important question concern appropriate home bioinformatics academic medical center possible academic home bioscience department extent particular computational technique unique department department logical home researcher focus technique particularly true faculty member need fully trained department discipline extent bioinformatics faculty member require broad training informatics issue skill applicable bioscience field logic basing faculty member broader academic unit containing colleague share informatics background general type unit unit later type promote faculty staff student work intersection clinical bioscience informatics broader appreciation biomedical informatics current trend bioinformatics continue model likely increasingly logical solution clear historical political practical consideration influence individual academic medical center approach issue\n"
     ]
    }
   ],
   "source": [
    "procs_abs_sample = data['Abstract'][0]\n",
    "print(f'Length after pre-processing : {len(procs_abs_sample.split())}\\n')\n",
    "print(procs_abs_sample)"
   ]
  },
  {
   "cell_type": "markdown",
   "id": "proof-norman",
   "metadata": {},
   "source": [
    "### Average length of the abstracts after pre-processing"
   ]
  },
  {
   "cell_type": "code",
   "execution_count": 11,
   "id": "blank-april",
   "metadata": {},
   "outputs": [],
   "source": [
    "total_abstracts = []\n",
    "for abstract in data['Abstract']:\n",
    "    total_abstracts.append(len(abstract.split()))"
   ]
  },
  {
   "cell_type": "code",
   "execution_count": 12,
   "id": "polar-handle",
   "metadata": {},
   "outputs": [
    {
     "name": "stdout",
     "output_type": "stream",
     "text": [
      "Average length of abstracts : 2536.911111111111\n"
     ]
    }
   ],
   "source": [
    "avg_after_proc = (sum(total_abstracts)/len(total_abstracts))\n",
    "print(f\"Average length of abstracts : {avg_after_proc}\")"
   ]
  },
  {
   "cell_type": "code",
   "execution_count": 13,
   "id": "capital-rugby",
   "metadata": {},
   "outputs": [
    {
     "data": {
      "image/png": "[encoded data removed]",
      "text/plain": [
       "<Figure size 432x288 with 1 Axes>"
      ]
     },
     "metadata": {
      "needs_background": "light"
     },
     "output_type": "display_data"
    }
   ],
   "source": [
    "fig = plt.figure()\n",
    "ax = fig.add_axes([0,0,1,1])\n",
    "desc = ['Avg before Pre-Processing', 'Avg after Pre-Processing']\n",
    "average_score = [avg_before_proc, avg_after_proc]\n",
    "ax.bar(desc,average_score)\n",
    "plt.title('COMPARING THE AVERAGE LENGTH OF THE ABSTRACTS BEFORE AND AFTER DATA PRE-PROCESSING')\n",
    "plt.show()"
   ]
  },
  {
   "cell_type": "code",
   "execution_count": 14,
   "id": "corrected-variation",
   "metadata": {},
   "outputs": [
    {
     "data": {
      "text/html": [
       "<div>\n",
       "<style scoped>\n",
       "    .dataframe tbody tr th:only-of-type {\n",
       "        vertical-align: middle;\n",
       "    }\n",
       "\n",
       "    .dataframe tbody tr th {\n",
       "        vertical-align: top;\n",
       "    }\n",
       "\n",
       "    .dataframe thead th {\n",
       "        text-align: right;\n",
       "    }\n",
       "</style>\n",
       "<table border=\"1\" class=\"dataframe\">\n",
       "  <thead>\n",
       "    <tr style=\"text-align: right;\">\n",
       "      <th></th>\n",
       "      <th>Doc_no</th>\n",
       "      <th>Abstract</th>\n",
       "      <th>Keywords</th>\n",
       "    </tr>\n",
       "  </thead>\n",
       "  <tbody>\n",
       "    <tr>\n",
       "      <th>0</th>\n",
       "      <td>10984461</td>\n",
       "      <td>opportunity intersection bioinformatics health...</td>\n",
       "      <td>computational biology,cooperative behavior,dec...</td>\n",
       "    </tr>\n",
       "    <tr>\n",
       "      <th>1</th>\n",
       "      <td>10984462</td>\n",
       "      <td>interaction clinical informatics bioinformatic...</td>\n",
       "      <td>academic medical centers,california,computatio...</td>\n",
       "    </tr>\n",
       "    <tr>\n",
       "      <th>2</th>\n",
       "      <td>10984463</td>\n",
       "      <td>electronic health record meet digital library ...</td>\n",
       "      <td>internet,libraries,medical records systems, co...</td>\n",
       "    </tr>\n",
       "    <tr>\n",
       "      <th>3</th>\n",
       "      <td>10984464</td>\n",
       "      <td>improving clinical communication view psycholo...</td>\n",
       "      <td>attitude of health personnel,cognitive science...</td>\n",
       "    </tr>\n",
       "    <tr>\n",
       "      <th>4</th>\n",
       "      <td>10984465</td>\n",
       "      <td>comparative evaluation continuous speech recog...</td>\n",
       "      <td>comparative study,evaluation studies,humans,me...</td>\n",
       "    </tr>\n",
       "  </tbody>\n",
       "</table>\n",
       "</div>"
      ],
      "text/plain": [
       "     Doc_no                                           Abstract  \\\n",
       "0  10984461  opportunity intersection bioinformatics health...   \n",
       "1  10984462  interaction clinical informatics bioinformatic...   \n",
       "2  10984463  electronic health record meet digital library ...   \n",
       "3  10984464  improving clinical communication view psycholo...   \n",
       "4  10984465  comparative evaluation continuous speech recog...   \n",
       "\n",
       "                                            Keywords  \n",
       "0  computational biology,cooperative behavior,dec...  \n",
       "1  academic medical centers,california,computatio...  \n",
       "2  internet,libraries,medical records systems, co...  \n",
       "3  attitude of health personnel,cognitive science...  \n",
       "4  comparative study,evaluation studies,humans,me...  "
      ]
     },
     "execution_count": 14,
     "metadata": {},
     "output_type": "execute_result"
    }
   ],
   "source": [
    "data.head()"
   ]
  },
  {
   "cell_type": "code",
   "execution_count": 15,
   "id": "thousand-attachment",
   "metadata": {},
   "outputs": [],
   "source": [
    "pd.to_pickle(data, 'Data/Processed_NLM500.pkl')"
   ]
  }
 ],
 "metadata": {
  "kernelspec": {
   "display_name": "Python 3",
   "language": "python",
   "name": "python3"
  },
  "language_info": {
   "codemirror_mode": {
    "name": "ipython",
    "version": 3
   },
   "file_extension": ".py",
   "mimetype": "text/x-python",
   "name": "python",
   "nbconvert_exporter": "python",
   "pygments_lexer": "ipython3",
   "version": "3.9.4"
  }
 },
 "nbformat": 4,
 "nbformat_minor": 5
}
