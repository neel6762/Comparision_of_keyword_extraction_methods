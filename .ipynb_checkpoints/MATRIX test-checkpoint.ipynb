{
 "cells": [
  {
   "cell_type": "code",
   "execution_count": 1,
   "id": "minute-waters",
   "metadata": {},
   "outputs": [],
   "source": [
    "import pandas as pd"
   ]
  },
  {
   "cell_type": "code",
   "execution_count": 2,
   "id": "funny-instruction",
   "metadata": {},
   "outputs": [],
   "source": [
    "data = pd.read_pickle('Data/Processed_Hulth.pkl')"
   ]
  },
  {
   "cell_type": "code",
   "execution_count": 3,
   "id": "resident-syria",
   "metadata": {},
   "outputs": [
    {
     "data": {
      "text/html": [
       "<div>\n",
       "<style scoped>\n",
       "    .dataframe tbody tr th:only-of-type {\n",
       "        vertical-align: middle;\n",
       "    }\n",
       "\n",
       "    .dataframe tbody tr th {\n",
       "        vertical-align: top;\n",
       "    }\n",
       "\n",
       "    .dataframe thead th {\n",
       "        text-align: right;\n",
       "    }\n",
       "</style>\n",
       "<table border=\"1\" class=\"dataframe\">\n",
       "  <thead>\n",
       "    <tr style=\"text-align: right;\">\n",
       "      <th></th>\n",
       "      <th>Doc_no</th>\n",
       "      <th>Title</th>\n",
       "      <th>Abstract</th>\n",
       "      <th>Keywords</th>\n",
       "    </tr>\n",
       "  </thead>\n",
       "  <tbody>\n",
       "    <tr>\n",
       "      <th>0</th>\n",
       "      <td>6</td>\n",
       "      <td>SBC gets more serious on regulatory compliance</td>\n",
       "      <td>one eye past future sbc communications lastwee...</td>\n",
       "      <td>telecommunication,sbc communications,regulator...</td>\n",
       "    </tr>\n",
       "    <tr>\n",
       "      <th>1</th>\n",
       "      <td>7</td>\n",
       "      <td>Anti-spam suit attempts to hold carriers accou...</td>\n",
       "      <td>lawsuit alleges sprint violated utahs new anti...</td>\n",
       "      <td>electronic mail,legislation,telecommunication,...</td>\n",
       "    </tr>\n",
       "    <tr>\n",
       "      <th>2</th>\n",
       "      <td>8</td>\n",
       "      <td>New investors get steal of a deal [Global Cros...</td>\n",
       "      <td>hutchison telecommunications singapore technol...</td>\n",
       "      <td>telecommunication,hutchison telecommunications...</td>\n",
       "    </tr>\n",
       "    <tr>\n",
       "      <th>3</th>\n",
       "      <td>9</td>\n",
       "      <td>Achieving competitive capabilities in e-services</td>\n",
       "      <td>implications internet service operations strat...</td>\n",
       "      <td>corporate modelling,electronic commerce,intern...</td>\n",
       "    </tr>\n",
       "    <tr>\n",
       "      <th>4</th>\n",
       "      <td>11</td>\n",
       "      <td>Does social capital determine innovation? To w...</td>\n",
       "      <td>paper deals two questions social capital deter...</td>\n",
       "      <td>corporate modelling,decision theory,manufactur...</td>\n",
       "    </tr>\n",
       "  </tbody>\n",
       "</table>\n",
       "</div>"
      ],
      "text/plain": [
       "   Doc_no                                              Title  \\\n",
       "0       6     SBC gets more serious on regulatory compliance   \n",
       "1       7  Anti-spam suit attempts to hold carriers accou...   \n",
       "2       8  New investors get steal of a deal [Global Cros...   \n",
       "3       9   Achieving competitive capabilities in e-services   \n",
       "4      11  Does social capital determine innovation? To w...   \n",
       "\n",
       "                                            Abstract  \\\n",
       "0  one eye past future sbc communications lastwee...   \n",
       "1  lawsuit alleges sprint violated utahs new anti...   \n",
       "2  hutchison telecommunications singapore technol...   \n",
       "3  implications internet service operations strat...   \n",
       "4  paper deals two questions social capital deter...   \n",
       "\n",
       "                                            Keywords  \n",
       "0  telecommunication,sbc communications,regulator...  \n",
       "1  electronic mail,legislation,telecommunication,...  \n",
       "2  telecommunication,hutchison telecommunications...  \n",
       "3  corporate modelling,electronic commerce,intern...  \n",
       "4  corporate modelling,decision theory,manufactur...  "
      ]
     },
     "execution_count": 3,
     "metadata": {},
     "output_type": "execute_result"
    }
   ],
   "source": [
    "data.head()"
   ]
  },
  {
   "cell_type": "code",
   "execution_count": 4,
   "id": "complete-cornwall",
   "metadata": {},
   "outputs": [],
   "source": [
    "doc = data['Abstract'][0]"
   ]
  },
  {
   "cell_type": "code",
   "execution_count": 5,
   "id": "competitive-double",
   "metadata": {},
   "outputs": [
    {
     "data": {
      "text/plain": [
       "'one eye past future sbc communications lastweek created unit hopes bring cohesiveness efficiencyto regulatory compliance efforts previously lacking carrier also hopes new regulatory compliance unit help itaccomplish short term goal landing fcc approval providelong distance service throughout region longer term goalof reducing regulatory burdens currently operate'"
      ]
     },
     "execution_count": 5,
     "metadata": {},
     "output_type": "execute_result"
    }
   ],
   "source": [
    "doc"
   ]
  },
  {
   "cell_type": "code",
   "execution_count": 6,
   "id": "documented-theology",
   "metadata": {},
   "outputs": [],
   "source": [
    "from sklearn.feature_extraction.text import CountVectorizer\n",
    "\n",
    "n_gram_range = (3, 3)\n",
    "\n",
    "# Extract candidate words/phrases\n",
    "count = CountVectorizer(ngram_range=n_gram_range).fit([doc])\n",
    "candidates = count.get_feature_names()"
   ]
  },
  {
   "cell_type": "code",
   "execution_count": 7,
   "id": "historical-appliance",
   "metadata": {},
   "outputs": [],
   "source": [
    "from sentence_transformers import SentenceTransformer\n",
    "\n",
    "model = SentenceTransformer('distilbert-base-nli-mean-tokens')\n",
    "doc_embedding = model.encode([doc])\n",
    "candidate_embeddings = model.encode(candidates)"
   ]
  },
  {
   "cell_type": "code",
   "execution_count": 8,
   "id": "suited-coral",
   "metadata": {},
   "outputs": [],
   "source": [
    "from sklearn.metrics.pairwise import cosine_similarity\n",
    "\n",
    "top_n = 5\n",
    "distances = cosine_similarity(doc_embedding, candidate_embeddings)\n",
    "keywords = [candidates[index] for index in distances.argsort()[0][-top_n:]]"
   ]
  },
  {
   "cell_type": "code",
   "execution_count": 9,
   "id": "fixed-oliver",
   "metadata": {},
   "outputs": [],
   "source": [
    "test = keywords"
   ]
  },
  {
   "cell_type": "code",
   "execution_count": 10,
   "id": "imposed-karen",
   "metadata": {},
   "outputs": [
    {
     "data": {
      "text/plain": [
       "['future sbc communications',\n",
       " 'sbc communications lastweek',\n",
       " 'lastweek created unit',\n",
       " 'communications lastweek created',\n",
       " 'hopes new regulatory']"
      ]
     },
     "execution_count": 10,
     "metadata": {},
     "output_type": "execute_result"
    }
   ],
   "source": [
    "keywords"
   ]
  },
  {
   "cell_type": "code",
   "execution_count": 11,
   "id": "collectible-netherlands",
   "metadata": {},
   "outputs": [
    {
     "data": {
      "text/plain": [
       "'future sbc communications sbc communications lastweek lastweek created unit communications lastweek created hopes new regulatory'"
      ]
     },
     "execution_count": 11,
     "metadata": {},
     "output_type": "execute_result"
    }
   ],
   "source": [
    "keywords = \" \".join(keywords)\n",
    "keywords"
   ]
  },
  {
   "cell_type": "code",
   "execution_count": 23,
   "id": "separated-reference",
   "metadata": {},
   "outputs": [
    {
     "data": {
      "text/plain": [
       "'telecommunication sbc communications regulatory compliance telecom carrier'"
      ]
     },
     "execution_count": 23,
     "metadata": {},
     "output_type": "execute_result"
    }
   ],
   "source": [
    "refrence = data['Keywords'][0]\n",
    "refrence = refrence.replace(\",\",\" \")\n",
    "refrence"
   ]
  },
  {
   "cell_type": "code",
   "execution_count": 26,
   "id": "isolated-sample",
   "metadata": {},
   "outputs": [],
   "source": [
    "from rouge_score import rouge_scorer\n",
    "\n",
    "scorer = rouge_scorer.RougeScorer(['rouge1','rouge2', 'rougeL'], use_stemmer=True)\n",
    "scores = scorer.score(keywords, refrence)\n"
   ]
  },
  {
   "cell_type": "code",
   "execution_count": 27,
   "id": "based-christopher",
   "metadata": {},
   "outputs": [
    {
     "data": {
      "text/plain": [
       "{'rouge1': Score(precision=0.42857142857142855, recall=0.2, fmeasure=0.27272727272727276),\n",
       " 'rouge2': Score(precision=0.16666666666666666, recall=0.07142857142857142, fmeasure=0.1),\n",
       " 'rougeL': Score(precision=0.42857142857142855, recall=0.2, fmeasure=0.27272727272727276)}"
      ]
     },
     "execution_count": 27,
     "metadata": {},
     "output_type": "execute_result"
    }
   ],
   "source": [
    "scores"
   ]
  },
  {
   "cell_type": "code",
   "execution_count": 8,
   "id": "posted-spouse",
   "metadata": {},
   "outputs": [],
   "source": [
    "keys_len = []\n",
    "for row in data['Keywords'][:500]:\n",
    "    keys_len.append(len(row.split(\",\")))"
   ]
  },
  {
   "cell_type": "code",
   "execution_count": 9,
   "id": "martial-summer",
   "metadata": {},
   "outputs": [
    {
     "data": {
      "text/plain": [
       "14.216"
      ]
     },
     "execution_count": 9,
     "metadata": {},
     "output_type": "execute_result"
    }
   ],
   "source": [
    "sum(keys_len)/len(keys_len)"
   ]
  },
  {
   "cell_type": "code",
   "execution_count": 10,
   "id": "integrated-module",
   "metadata": {},
   "outputs": [
    {
     "ename": "ModuleNotFoundError",
     "evalue": "No module named 'summa'",
     "output_type": "error",
     "traceback": [
      "\u001b[0;31m---------------------------------------------------------------------------\u001b[0m",
      "\u001b[0;31mModuleNotFoundError\u001b[0m                       Traceback (most recent call last)",
      "\u001b[0;32m<ipython-input-10-53e8d956671e>\u001b[0m in \u001b[0;36m<module>\u001b[0;34m\u001b[0m\n\u001b[0;32m----> 1\u001b[0;31m \u001b[0;32mfrom\u001b[0m \u001b[0msumma\u001b[0m \u001b[0;32mimport\u001b[0m \u001b[0mkeywords\u001b[0m\u001b[0;34m\u001b[0m\u001b[0;34m\u001b[0m\u001b[0m\n\u001b[0m",
      "\u001b[0;31mModuleNotFoundError\u001b[0m: No module named 'summa'"
     ]
    }
   ],
   "source": [
    "from summa import keywords"
   ]
  },
  {
   "cell_type": "code",
   "execution_count": 1,
   "id": "supreme-baseball",
   "metadata": {},
   "outputs": [
    {
     "ename": "NameError",
     "evalue": "name 'data' is not defined",
     "output_type": "error",
     "traceback": [
      "\u001b[0;31m---------------------------------------------------------------------------\u001b[0m",
      "\u001b[0;31mNameError\u001b[0m                                 Traceback (most recent call last)",
      "\u001b[0;32m<ipython-input-1-b6c0cd97f5ff>\u001b[0m in \u001b[0;36m<module>\u001b[0;34m\u001b[0m\n\u001b[0;32m----> 1\u001b[0;31m \u001b[0mrefrence\u001b[0m \u001b[0;34m=\u001b[0m \u001b[0mstr\u001b[0m\u001b[0;34m(\u001b[0m\u001b[0mdata\u001b[0m\u001b[0;34m[\u001b[0m\u001b[0;34m'Keywords'\u001b[0m\u001b[0;34m]\u001b[0m\u001b[0;34m[\u001b[0m\u001b[0;34m:\u001b[0m\u001b[0;36m1\u001b[0m\u001b[0;34m]\u001b[0m\u001b[0;34m)\u001b[0m\u001b[0;34m\u001b[0m\u001b[0;34m\u001b[0m\u001b[0m\n\u001b[0m\u001b[1;32m      2\u001b[0m \u001b[0mtest\u001b[0m \u001b[0;34m=\u001b[0m \u001b[0mstr\u001b[0m\u001b[0;34m(\u001b[0m\u001b[0mrake_pred_df\u001b[0m\u001b[0;34m[\u001b[0m\u001b[0;34m'Extracted_Keywords'\u001b[0m\u001b[0;34m]\u001b[0m\u001b[0;34m[\u001b[0m\u001b[0;34m:\u001b[0m\u001b[0;36m1\u001b[0m\u001b[0;34m]\u001b[0m\u001b[0;34m)\u001b[0m\u001b[0;34m\u001b[0m\u001b[0;34m\u001b[0m\u001b[0m\n\u001b[1;32m      3\u001b[0m \u001b[0mget_Rouge_scores\u001b[0m\u001b[0;34m(\u001b[0m\u001b[0mrefrence\u001b[0m\u001b[0;34m,\u001b[0m \u001b[0mtest\u001b[0m\u001b[0;34m)\u001b[0m\u001b[0;34m\u001b[0m\u001b[0;34m\u001b[0m\u001b[0m\n",
      "\u001b[0;31mNameError\u001b[0m: name 'data' is not defined"
     ]
    }
   ],
   "source": [
    "refrence = str(data['Keywords'][:1])\n",
    "test = str(rake_pred_df['Extracted_Keywords'][:1])\n",
    "get_Rouge_scores(refrence, test)"
   ]
  },
  {
   "cell_type": "code",
   "execution_count": null,
   "id": "contained-likelihood",
   "metadata": {},
   "outputs": [],
   "source": [
    "def get_Rouge_scores(refrence, test):\n",
    "    refrence = refrence.split(\",\")\n",
    "    scorer = rouge_scorer.RougeScorer(['rouge1','rouge2', 'rougeL'], use_stemmer=True)\n",
    "    scores = scorer.score(refrence, test)\n",
    "    return scores"
   ]
  }
 ],
 "metadata": {
  "kernelspec": {
   "display_name": "Python 3",
   "language": "python",
   "name": "python3"
  },
  "language_info": {
   "codemirror_mode": {
    "name": "ipython",
    "version": 3
   },
   "file_extension": ".py",
   "mimetype": "text/x-python",
   "name": "python",
   "nbconvert_exporter": "python",
   "pygments_lexer": "ipython3",
   "version": "3.9.4"
  }
 },
 "nbformat": 4,
 "nbformat_minor": 5
}
